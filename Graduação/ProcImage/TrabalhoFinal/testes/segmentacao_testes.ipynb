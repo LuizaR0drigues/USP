{
  "cells": [
    {
      "cell_type": "markdown",
      "metadata": {
        "id": "c0ybVe3ThpeJ"
      },
      "source": [
        "## Segmentação de Imagens de áreas desmatadas obtidas pelo Satélite Landsat8"
      ]
    },
    {
      "cell_type": "code",
      "source": [
        "from google.colab import drive\n",
        "# 1. Montar o Google Drive\n",
        "print(\"Montando o Google Drive...\")\n",
        "drive.mount('/content/drive')\n"
      ],
      "metadata": {
        "colab": {
          "base_uri": "https://localhost:8080/"
        },
        "id": "V7_NM3zO0yXp",
        "outputId": "22ac04cb-e825-49d0-ede1-38d3bbb74567"
      },
      "execution_count": 3,
      "outputs": [
        {
          "output_type": "stream",
          "name": "stdout",
          "text": [
            "Montando o Google Drive...\n",
            "Drive already mounted at /content/drive; to attempt to forcibly remount, call drive.mount(\"/content/drive\", force_remount=True).\n"
          ]
        }
      ]
    },
    {
      "cell_type": "code",
      "source": [
        "!pip install git+https://github.com/MIT-AI-Accelerator/multiearth-challenge"
      ],
      "metadata": {
        "colab": {
          "base_uri": "https://localhost:8080/"
        },
        "id": "A-vSPIAy2X9W",
        "outputId": "cc5d23a3-9d1b-4d6a-c09e-f58ad6ce333e"
      },
      "execution_count": 2,
      "outputs": [
        {
          "output_type": "stream",
          "name": "stdout",
          "text": [
            "Collecting git+https://github.com/MIT-AI-Accelerator/multiearth-challenge\n",
            "  Cloning https://github.com/MIT-AI-Accelerator/multiearth-challenge to /tmp/pip-req-build-tijdxasd\n",
            "  Running command git clone --filter=blob:none --quiet https://github.com/MIT-AI-Accelerator/multiearth-challenge /tmp/pip-req-build-tijdxasd\n",
            "  Resolved https://github.com/MIT-AI-Accelerator/multiearth-challenge to commit 21cd2c7f2b5ea7cd8bba5fa49af5fc295e7cf3c9\n",
            "  Preparing metadata (setup.py) ... \u001b[?25l\u001b[?25hcanceled\n",
            "Traceback (most recent call last):\n",
            "  File \"/usr/local/lib/python3.11/dist-packages/pip/_internal/cli/base_command.py\", line 179, in exc_logging_wrapper\n",
            "    status = run_func(*args)\n",
            "             ^^^^^^^^^^^^^^^\n",
            "  File \"/usr/local/lib/python3.11/dist-packages/pip/_internal/cli/req_command.py\", line 67, in wrapper\n",
            "    return func(self, options, args)\n",
            "           ^^^^^^^^^^^^^^^^^^^^^^^^^\n",
            "  File \"/usr/local/lib/python3.11/dist-packages/pip/_internal/commands/install.py\", line 377, in run\n",
            "    requirement_set = resolver.resolve(\n",
            "                      ^^^^^^^^^^^^^^^^^\n",
            "  File \"/usr/local/lib/python3.11/dist-packages/pip/_internal/resolution/resolvelib/resolver.py\", line 76, in resolve\n",
            "    collected = self.factory.collect_root_requirements(root_reqs)\n",
            "                ^^^^^^^^^^^^^^^^^^^^^^^^^^^^^^^^^^^^^^^^^^^^^^^^^\n",
            "  File \"/usr/local/lib/python3.11/dist-packages/pip/_internal/resolution/resolvelib/factory.py\", line 538, in collect_root_requirements\n",
            "    reqs = list(\n",
            "           ^^^^^\n",
            "  File \"/usr/local/lib/python3.11/dist-packages/pip/_internal/resolution/resolvelib/factory.py\", line 494, in _make_requirements_from_install_req\n",
            "    cand = self._make_base_candidate_from_link(\n",
            "           ^^^^^^^^^^^^^^^^^^^^^^^^^^^^^^^^^^^^\n",
            "  File \"/usr/local/lib/python3.11/dist-packages/pip/_internal/resolution/resolvelib/factory.py\", line 231, in _make_base_candidate_from_link\n",
            "    self._link_candidate_cache[link] = LinkCandidate(\n",
            "                                       ^^^^^^^^^^^^^^\n",
            "  File \"/usr/local/lib/python3.11/dist-packages/pip/_internal/resolution/resolvelib/candidates.py\", line 303, in __init__\n",
            "    super().__init__(\n",
            "  File \"/usr/local/lib/python3.11/dist-packages/pip/_internal/resolution/resolvelib/candidates.py\", line 158, in __init__\n",
            "    self.dist = self._prepare()\n",
            "                ^^^^^^^^^^^^^^^\n",
            "  File \"/usr/local/lib/python3.11/dist-packages/pip/_internal/resolution/resolvelib/candidates.py\", line 235, in _prepare\n",
            "    dist = self._prepare_distribution()\n",
            "           ^^^^^^^^^^^^^^^^^^^^^^^^^^^^\n",
            "  File \"/usr/local/lib/python3.11/dist-packages/pip/_internal/resolution/resolvelib/candidates.py\", line 314, in _prepare_distribution\n",
            "    return preparer.prepare_linked_requirement(self._ireq, parallel_builds=True)\n",
            "           ^^^^^^^^^^^^^^^^^^^^^^^^^^^^^^^^^^^^^^^^^^^^^^^^^^^^^^^^^^^^^^^^^^^^^\n",
            "  File \"/usr/local/lib/python3.11/dist-packages/pip/_internal/operations/prepare.py\", line 527, in prepare_linked_requirement\n",
            "    return self._prepare_linked_requirement(req, parallel_builds)\n",
            "           ^^^^^^^^^^^^^^^^^^^^^^^^^^^^^^^^^^^^^^^^^^^^^^^^^^^^^^\n",
            "  File \"/usr/local/lib/python3.11/dist-packages/pip/_internal/operations/prepare.py\", line 642, in _prepare_linked_requirement\n",
            "    dist = _get_prepared_distribution(\n",
            "           ^^^^^^^^^^^^^^^^^^^^^^^^^^^\n",
            "  File \"/usr/local/lib/python3.11/dist-packages/pip/_internal/operations/prepare.py\", line 72, in _get_prepared_distribution\n",
            "    abstract_dist.prepare_distribution_metadata(\n",
            "  File \"/usr/local/lib/python3.11/dist-packages/pip/_internal/distributions/sdist.py\", line 69, in prepare_distribution_metadata\n",
            "    self.req.prepare_metadata()\n",
            "  File \"/usr/local/lib/python3.11/dist-packages/pip/_internal/req/req_install.py\", line 580, in prepare_metadata\n",
            "    self.metadata_directory = generate_metadata_legacy(\n",
            "                              ^^^^^^^^^^^^^^^^^^^^^^^^^\n",
            "  File \"/usr/local/lib/python3.11/dist-packages/pip/_internal/operations/build/metadata_legacy.py\", line 64, in generate_metadata\n",
            "    call_subprocess(\n",
            "  File \"/usr/local/lib/python3.11/dist-packages/pip/_internal/utils/subprocess.py\", line 151, in call_subprocess\n",
            "    line: str = proc.stdout.readline()\n",
            "                ^^^^^^^^^^^^^^^^^^^^^^\n",
            "KeyboardInterrupt\n",
            "\n",
            "During handling of the above exception, another exception occurred:\n",
            "\n",
            "Traceback (most recent call last):\n",
            "  File \"/usr/local/bin/pip3\", line 10, in <module>\n",
            "    sys.exit(main())\n",
            "             ^^^^^^\n",
            "  File \"/usr/local/lib/python3.11/dist-packages/pip/_internal/cli/main.py\", line 80, in main\n",
            "    return command.main(cmd_args)\n",
            "           ^^^^^^^^^^^^^^^^^^^^^^\n",
            "  File \"/usr/local/lib/python3.11/dist-packages/pip/_internal/cli/base_command.py\", line 100, in main\n",
            "    return self._main(args)\n",
            "           ^^^^^^^^^^^^^^^^\n",
            "  File \"/usr/local/lib/python3.11/dist-packages/pip/_internal/cli/base_command.py\", line 232, in _main\n",
            "    return run(options, args)\n",
            "           ^^^^^^^^^^^^^^^^^^\n",
            "  File \"/usr/local/lib/python3.11/dist-packages/pip/_internal/cli/base_command.py\", line 215, in exc_logging_wrapper\n",
            "    logger.critical(\"Operation cancelled by user\")\n",
            "  File \"/usr/lib/python3.11/logging/__init__.py\", line 1536, in critical\n",
            "    self._log(CRITICAL, msg, args, **kwargs)\n",
            "  File \"/usr/lib/python3.11/logging/__init__.py\", line 1634, in _log\n",
            "    self.handle(record)\n",
            "  File \"/usr/lib/python3.11/logging/__init__.py\", line 1644, in handle\n",
            "    self.callHandlers(record)\n",
            "  File \"/usr/lib/python3.11/logging/__init__.py\", line 1706, in callHandlers\n",
            "    hdlr.handle(record)\n",
            "  File \"/usr/lib/python3.11/logging/__init__.py\", line 974, in handle\n",
            "    rv = self.filter(record)\n",
            "         ^^^^^^^^^^^^^^^^^^^\n",
            "  File \"/usr/lib/python3.11/logging/__init__.py\", line 830, in filter\n",
            "    result = f.filter(record)\n",
            "             ^^^^^^^^^^^^^^^^\n",
            "  File \"/usr/local/lib/python3.11/dist-packages/pip/_internal/utils/logging.py\", line 222, in filter\n",
            "    return not super().filter(record)\n",
            "               ^^^^^^^\n",
            "KeyboardInterrupt\n",
            "^C\n"
          ]
        }
      ]
    },
    {
      "cell_type": "code",
      "execution_count": 4,
      "metadata": {
        "id": "M_HqkrGBhpeQ"
      },
      "outputs": [],
      "source": [
        "#Importando bibliotecas\n",
        "import pkg_resources\n",
        "from pathlib import Path\n",
        "import numpy as np\n",
        "from matplotlib import pyplot as plt\n",
        "from skimage import filters, morphology\n",
        "from skimage.transform import resize\n",
        "import pandas as pd\n",
        "from multiearth_challenge.datasets import segmentation_dataset as sd\n",
        "from tqdm import tqdm\n"
      ]
    },
    {
      "cell_type": "code",
      "execution_count": 6,
      "metadata": {
        "colab": {
          "base_uri": "https://localhost:8080/"
        },
        "id": "RqZpRRlYhpeV",
        "outputId": "e59fc02e-eeb7-49a6-f165-095a086f5435"
      },
      "outputs": [
        {
          "output_type": "stream",
          "name": "stdout",
          "text": [
            "Encontrados 10224 targets com ao menos uma imagem compatível.\n"
          ]
        }
      ],
      "source": [
        "\n",
        "data_dir = Path(\"./drive/MyDrive/testes/\")\n",
        "source_files = [data_dir / \"landsat8_train.nc\"]\n",
        "segmentation_files = [data_dir / \"deforestation_train.nc\"]\n",
        "\n",
        "# 1. Bandas de detecção da imagem de entrada\n",
        "# As bandas disponíveis são\n",
        "# ['SR_B1', 'SR_B2', 'SR_B3', 'SR_B4', 'SR_B5', 'SR_B6', 'SR_B7', 'ST_B10', 'QA_PIXEL']\n",
        "# Selecionaremos as bandas no espectro de luz visível\n",
        "source_bands = {\"Landsat-8\": [\"SR_B4\", \"SR_B3\", \"SR_B2\"]} # RGB\n",
        "\n",
        "# 2. Cobertura de nuvens (em pct) [min, max].\n",
        "source_cloud_coverage = (0, 0)\n",
        "\n",
        "# 3. Janela temporal ao redor da data do target\n",
        "# Como o tempo de revisita do landsat8 é de 16 dias, usaremos esse valor\n",
        "source_date_window = (-16, 16)\n",
        "\n",
        "# 4. Se 'True', gera um par (source, target) para cada source compatível, false retorna uma lista das imagens compatíveis\n",
        "# True gera \"duplicação\" de targets, então usamos false e lidamos com a lista posteriormente\n",
        "single_source_image = False\n",
        "\n",
        "# 5. Se não forem encontrados nenhum dado, retorna erro (na pratica nesse caso não precisa se preocupar)\n",
        "error_on_empty = True\n",
        "# --- 1. Create the Initial Dataset ---\n",
        "# Note: If you modified segmentation_dataset.py to accept 'Landsat-8' as a\n",
        "# segmentation source, this will work. Otherwise, it might error here.\n",
        "dataset = sd.ImageSegmentationDataset(\n",
        "    source_files=source_files,\n",
        "    segmentation_files=segmentation_files,\n",
        "    source_bands=source_bands,\n",
        "    merge_source_bands=True,\n",
        "    source_cloud_coverage=source_cloud_coverage,\n",
        "    source_date_window=source_date_window,\n",
        "    single_source_image=single_source_image,\n",
        ")\n",
        "\n",
        "print(f\"Encontrados {len(dataset)} targets com ao menos uma imagem compatível.\")"
      ]
    },
    {
      "cell_type": "markdown",
      "source": [
        "# Antes"
      ],
      "metadata": {
        "id": "_CESOxawMEhH"
      }
    },
    {
      "cell_type": "markdown",
      "metadata": {
        "id": "-JXUnWi5hpeX"
      },
      "source": [
        "\n",
        " Define os caminhos para os arquivos de dados de amostra\n",
        " Estes são os arquivos de entrada (imagem de satélite) e alvo (máscara de segmentação).\n",
        "source_files = [pkg_resources.resource_filename(\"multiearth_challenge\", \"data/sample_dataset/landsat8_sample.nc\")]\n",
        "segmentation_files = [pkg_resources.resource_filename(\"multiearth_challenge\", \"data/sample_dataset/deforestation_sample.nc\")]\n",
        "\n",
        "\n",
        "Bandas que serão utlizadas, neste caso RGB\n",
        "Landsat-8, bandas RGB: Vermelho (SR_B4), Verde (SR_B3) e Azul (SR_B2).\n",
        "source_bands = {\"Landsat-8\": ['SR_B4', 'SR_B3', 'SR_B2']}\n",
        "\n",
        "Configuração do Dataset com as imagens RGB\n",
        " O parâmetro mais importante `merge_source_bands=True`, que combina\n",
        " as 3 bandas (R, G, B) em uma única imagem de 3 canais.\n",
        "dataset = sd.ImageSegmentationDataset(\n",
        "    source_files=source_files,\n",
        "    segmentation_files=segmentation_files,\n",
        "    source_bands=source_bands,\n",
        "    merge_source_bands=True,  ESSENCIAL: Junta as bandas em uma imagem RGB\n",
        "    source_cloud_coverage=(0.0, 0.0), # Pega apenas imagens sem nuvens\n",
        "    source_date_window=(-16, 16),\n",
        "    single_source_image=True,\n",
        "    error_on_empty=True,\n",
        ")\n",
        "\n",
        "print(f\"Número de pares (imagem RGB / máscara) encontrados: {len(dataset)}\")\n"
      ]
    },
    {
      "cell_type": "markdown",
      "metadata": {
        "id": "veg3KOH8hpeZ"
      },
      "source": [
        "#### Redimensionando as Mascáras"
      ]
    },
    {
      "cell_type": "code",
      "execution_count": 5,
      "metadata": {
        "colab": {
          "base_uri": "https://localhost:8080/"
        },
        "id": "pnR_qJgbhpeZ",
        "outputId": "cd2da6a7-bd67-4407-8b48-6669fbc5cd2e"
      },
      "outputs": [
        {
          "output_type": "stream",
          "name": "stdout",
          "text": [
            "\n",
            "Processing complete. Created 3 final image-mask pairs.\n",
            "Shape final - máscaras: 3\n"
          ]
        }
      ],
      "source": [
        "\n",
        "processed_sources = []\n",
        "processed_masks = []\n",
        "new_dims = (85, 85)\n",
        "\n",
        "for i in range(3):\n",
        "    source_data_list, target_data = dataset[i]\n",
        "\n",
        "    if not source_data_list:\n",
        "        continue\n",
        "\n",
        "    # 1. Voltando na idefrom skimage.transform import resizeia de single_source_image, como temos uma lista de imagens compatíveis, escolhemos a mais próxima em timestamp\n",
        "    target_date = target_data['date']\n",
        "    time_diffs = np.array([abs(s['date'] - target_date) for s in source_data_list])\n",
        "    best_source_idx = np.argmin(time_diffs)\n",
        "    best_source = source_data_list[best_source_idx]\n",
        "\n",
        "    # 2. Subamostragem na máscara, 256x256 para 85x85\n",
        "    original_mask = target_data['image'].squeeze()\n",
        "\n",
        "    # Opções para manter a característica binária da mascara\n",
        "    downscaled_mask = resize(\n",
        "        original_mask,\n",
        "        new_dims,\n",
        "        order=0,\n",
        "        preserve_range=True,\n",
        "        anti_aliasing=False\n",
        "    )\n",
        "\n",
        "    downscaled_mask = downscaled_mask.astype(original_mask.dtype)\n",
        "\n",
        "    # 3. Adicionar a fonte e máscara na lista\n",
        "    processed_sources.append(best_source['image'])\n",
        "    processed_masks.append(downscaled_mask)\n",
        "\n",
        "print(f\"\\nProcessing complete. Created {len(processed_sources)} final image-mask pairs.\")\n",
        "\n",
        "# Transformar em nparrays\n",
        "#final_sources = np.stack(processed_sources)\n",
        "#final_masks = np.stack(processed_masks)\n",
        "\n",
        "#print(f\"\\nShape final - Fonte: {final_sources.shape}\")\n",
        "print(f\"Shape final - máscaras: {len(processed_masks)}\")"
      ]
    },
    {
      "cell_type": "code",
      "execution_count": 6,
      "metadata": {
        "id": "wQhNdXNOhpeb"
      },
      "outputs": [],
      "source": [
        "\n",
        "def luminance(image):\n",
        "    l = 0.2126 * image[:, :, 0] + 0.7152 * image[:, :, 1] + 0.0722 * image[:, :, 2]\n",
        "    return l\n",
        "\n",
        "# Função auxiliar para normalizar a imagem para visualização (valores entre 0 e 1)\n",
        "def normalize(img):\n",
        "    img = img.astype(np.float64)\n",
        "    min_val = np.min(img)\n",
        "    max_val = np.max(img)\n",
        "    if max_val > min_val:\n",
        "        img = (img - min_val) / (max_val - min_val)\n",
        "    else:\n",
        "        img = img * 0  # imagem preta se max==min\n",
        "    return img\n"
      ]
    },
    {
      "cell_type": "code",
      "execution_count": 7,
      "metadata": {
        "colab": {
          "base_uri": "https://localhost:8080/"
        },
        "id": "CGR0872Ahpee",
        "outputId": "0210d563-f6bc-4c55-c733-5542f9b53619"
      },
      "outputs": [
        {
          "output_type": "stream",
          "name": "stderr",
          "text": [
            "Vetorizando Imagens:   0%|          | 4/10224 [00:00<01:19, 127.76it/s]\n"
          ]
        }
      ],
      "source": [
        "\n",
        "#Criando o vetor de imagens\n",
        "vetor_img = []\n",
        "#imagens cinza\n",
        "imgs_cinza = []\n",
        "\n",
        "#vetor para as mask\n",
        "vetor_mask = []\n",
        "#processa todas as imagens do dataset\n",
        "for i,(source_data, target_data) in enumerate(tqdm(dataset, desc=\"Vetorizando Imagens\")):\n",
        "    rgb_image = source_data[0][\"image\"]  # (3, H, W)\n",
        "    mask = target_data[\"image\"]\n",
        "    img_transp = rgb_image.transpose((1,2,0)) # converte para (H, W, 3)\n",
        "\n",
        "    #normalizo a imagem com valores entre 0-1\n",
        "    rgb_norm = normalize(img_transp)\n",
        "\n",
        "    #vetor com imagens rgb\n",
        "    vetor_img.append(rgb_norm)\n",
        "\n",
        "    #imagens cinzas\n",
        "    img_g = luminance(img_transp) #aplico a luminacia em img transporta e normalizada\n",
        "    imgs_cinza.append(normalize(img_g))\n",
        "\n",
        "    #acumulando as mascaras\n",
        "    vetor_mask.append(mask.transpose((1,2,0)))\n",
        "\n",
        "\n",
        "    if i>3:\n",
        "      break"
      ]
    },
    {
      "cell_type": "code",
      "execution_count": 8,
      "metadata": {
        "id": "Dlr0lih3hpef"
      },
      "outputs": [],
      "source": [
        "def converter_uint8(img_float):\n",
        "    #Converte uma imagem float [0, 1] para uint8 (0-255)\n",
        "    return (img_float * 255).astype(np.uint8)\n",
        "\n",
        "#Converte a lista de imagens RGB\n",
        "imagens_rgb = [converter_uint8(img) for img in vetor_img]\n",
        "\n",
        "#Converte a lista de imagens em tons de cinza\n",
        "imagens_cinza = [converter_uint8(img) for img in imgs_cinza]\n",
        "\n"
      ]
    },
    {
      "cell_type": "code",
      "execution_count": 9,
      "metadata": {
        "colab": {
          "base_uri": "https://localhost:8080/",
          "height": 383
        },
        "id": "EYP7o_70hpeh",
        "outputId": "604de687-d808-4a14-dab0-16689fa17609"
      },
      "outputs": [
        {
          "output_type": "display_data",
          "data": {
            "text/plain": [
              "<Figure size 1500x500 with 3 Axes>"
            ],
            "image/png": "[encoded data removed]"
          },
          "metadata": {}
        }
      ],
      "source": [
        "num_a_visualizar = min(3, len(imagens_rgb))\n",
        "fig, axes = plt.subplots(1, num_a_visualizar, figsize=(5 *  num_a_visualizar, 5))\n",
        "# Garante que 'axes' seja sempre uma lista, mesmo com num_a_visualizar=1\n",
        "if num_a_visualizar == 1:\n",
        "    axes = [axes]\n",
        "\n",
        "for i in range(num_a_visualizar):\n",
        "     # Transpõe para (H, W, 3) e normaliza para o intervalo [0,1] caso necessário\n",
        "        img = imagens_rgb[i]\n",
        "        axes[i].imshow(img, cmap='gray')\n",
        "        axes[i].set_title(f\"Imagem #{i}\")\n",
        "        axes[i].axis(\"off\")\n",
        "\n",
        "plt.tight_layout()\n",
        "plt.show()"
      ]
    },
    {
      "cell_type": "code",
      "execution_count": 10,
      "metadata": {
        "colab": {
          "base_uri": "https://localhost:8080/"
        },
        "id": "WKSf1h8Fhpek",
        "outputId": "610d046d-1246-49c4-d94e-d5ca7c01d45e"
      },
      "outputs": [
        {
          "output_type": "execute_result",
          "data": {
            "text/plain": [
              "5"
            ]
          },
          "metadata": {},
          "execution_count": 10
        }
      ],
      "source": [
        "len(imagens_cinza)"
      ]
    },
    {
      "cell_type": "code",
      "execution_count": 11,
      "metadata": {
        "colab": {
          "base_uri": "https://localhost:8080/",
          "height": 383
        },
        "id": "kEXl-KQShpek",
        "outputId": "2b49934f-5f72-4f6f-9665-16d467b69832"
      },
      "outputs": [
        {
          "output_type": "display_data",
          "data": {
            "text/plain": [
              "<Figure size 1500x500 with 3 Axes>"
            ],
            "image/png": "[encoded data removed]"
          },
          "metadata": {}
        }
      ],
      "source": [
        "num_a_visualizar = min(3, len(imagens_cinza))\n",
        "fig, axes = plt.subplots(1, num_a_visualizar, figsize=(5 *  num_a_visualizar, 5))\n",
        "# Garante que 'axes' seja sempre uma lista, mesmo com num_a_visualizar=1\n",
        "if num_a_visualizar == 1:\n",
        "    axes = [axes]\n",
        "\n",
        "for i in range(num_a_visualizar):\n",
        "     # Transpõe para (H, W, 3) e normaliza para o intervalo [0,1] caso necessário\n",
        "        img = imagens_cinza[i]\n",
        "        axes[i].imshow(img, cmap='gray')\n",
        "        axes[i].set_title(f\"Imagem #{i}\")\n",
        "        axes[i].axis(\"off\")\n",
        "\n",
        "plt.tight_layout()\n",
        "plt.show()"
      ]
    },
    {
      "cell_type": "code",
      "execution_count": 12,
      "metadata": {
        "colab": {
          "base_uri": "https://localhost:8080/",
          "height": 376
        },
        "id": "TAzKwoFAhpem",
        "outputId": "8545d0f8-3aea-4a23-daa5-7ab3b87a97bb"
      },
      "outputs": [
        {
          "output_type": "display_data",
          "data": {
            "text/plain": [
              "<Figure size 1500x500 with 3 Axes>"
            ],
            "image/png": "[encoded data removed]"
          },
          "metadata": {}
        }
      ],
      "source": [
        "tam = min(3, len(vetor_mask))\n",
        "fig, axes = plt.subplots(1, tam, figsize=(5 *  tam, 5))\n",
        "# Garante que 'axes' seja sempre uma lista, mesmo com tam=1\n",
        "if tam == 1:\n",
        "    axes = [axes]\n",
        "\n",
        "for i in range(tam):\n",
        "    img = vetor_mask[i]\n",
        "    axes[i].imshow(img, cmap='gray')\n",
        "    axes[i].set_title(f\"Imagem #{i}\")\n",
        "    axes[i].axis()\n",
        "\n",
        "plt.tight_layout()\n",
        "plt.show()"
      ]
    },
    {
      "cell_type": "code",
      "execution_count": 13,
      "metadata": {
        "id": "DoXmbtmdhpen"
      },
      "outputs": [],
      "source": [
        "#Funções para plotars imagens lado a lado (2 e 3 ) e histogramas\n",
        "def plot_2img(tg,img1,title1, img2, title2):\n",
        "    plt.figure(figsize=(10,5))\n",
        "    plt.suptitle(tg)\n",
        "\n",
        "    # 1. Imagem original\n",
        "    plt.subplot(1, 2, 1)\n",
        "    plt.title(title1)\n",
        "    plt.imshow(img1, cmap='gray')\n",
        "    plt.axis('off')\n",
        "\n",
        "    # 2. Imagem binarizada\n",
        "    plt.subplot(1,2,2)\n",
        "    plt.title(title2)\n",
        "    plt.imshow(img2, cmap='gray')\n",
        "    plt.axis('off')\n",
        "\n",
        "    plt.tight_layout()\n",
        "    plt.show()\n",
        "\n",
        "def plot_3img(tg, img1, t1, img2, t2, img3, t3):\n",
        "\n",
        "    # Mostra lado a lado\n",
        "    plt.figure(figsize=(15, 5))\n",
        "    plt.suptitle(tg)\n",
        "\n",
        "    plt.subplot(1, 3, 1)\n",
        "    plt.title(t1)\n",
        "    plt.imshow(img1, cmap='gray')\n",
        "    plt.axis('off')\n",
        "\n",
        "    plt.subplot(1, 3, 2)\n",
        "    plt.title(t2)\n",
        "    plt.imshow(img2, cmap='gray')\n",
        "    plt.axis('off')\n",
        "\n",
        "    plt.subplot(1, 3, 3)\n",
        "    plt.title(t3)\n",
        "    plt.imshow(img3, cmap='gray')\n",
        "    plt.axis('off')\n",
        "\n",
        "    plt.tight_layout()\n",
        "    plt.show()\n",
        "\n",
        "def plot_imagens(imagens, titulos=None, titulo_geral=None, cmap='gray'):\n",
        "    tam = len(imagens)\n",
        "    if titulos is None:\n",
        "        titulos = [''] * 4  # títulos vazios por padrão\n",
        "\n",
        "    plt.figure(figsize=(5* tam, 5))\n",
        "\n",
        "    if titulo_geral:\n",
        "        plt.suptitle(titulo_geral, fontsize=16, y=1.05)\n",
        "\n",
        "    for i in range(tam):\n",
        "        plt.subplot(1, tam, i + 1)\n",
        "        plt.imshow(imagens[i], cmap=cmap)\n",
        "        plt.title(titulos[i])\n",
        "        plt.axis()\n",
        "\n",
        "    plt.tight_layout()\n",
        "    plt.show()\n",
        "\n",
        "\n"
      ]
    },
    {
      "cell_type": "markdown",
      "metadata": {
        "id": "rDR-ZDCPhpeo"
      },
      "source": [
        "#### Aplicação de filtros nas imagens"
      ]
    },
    {
      "cell_type": "code",
      "execution_count": null,
      "metadata": {
        "id": "QaWnG_UChpep"
      },
      "outputs": [],
      "source": [
        "##FUNCÕES DE REALCE\n",
        "#Histograma\n",
        "#Computa a distribuição de intensidades de pixel em uma img\n",
        "def histograma(img, tam):\n",
        "    acumulador = np.zeros((tam,))\n",
        "    h, w = img.shape\n",
        "    for i in range(h):\n",
        "        for j in range(w):\n",
        "            acumulador[img[i, j]] += 1\n",
        "    return acumulador\n",
        "\n",
        "#Histograma Cumulativo\n",
        "#Computa a proporcao de intensidades\n",
        "def histo_cumulativo(h, L):\n",
        "    acumulador = np.zeros((L,))\n",
        "    acumulador[0] = h[0]\n",
        "    for i in range(1, L):\n",
        "        acumulador[i] = acumulador[i - 1] + h[i]\n",
        "    return acumulador\n",
        "\n",
        "#Funcao que aplica uma equalizacao no histograma\n",
        "#T(z) = ((L-1)/ total_pixels) * Hc(z)\n",
        "def transf(hc, img, total=None):\n",
        "\n",
        "    h, w = img.shape\n",
        "    L = 256  # níveis de cinza\n",
        "    if total is None:\n",
        "        total = float(h * w)\n",
        "    new_img = np.zeros_like(img, dtype=np.uint8)\n",
        "    aux = (L-1)/total\n",
        "    for i in range(h):\n",
        "        for j in range(w):\n",
        "            z = img[i, j]\n",
        "            new_val = aux * hc[z]\n",
        "            new_img[i, j] = new_val\n",
        "\n",
        "    return new_img.astype(np.uint8)\n",
        "\n",
        "#Realiza a equalizacao de forma individual\n",
        "def equaliza_indiv(imagens):\n",
        "    img_eq =  []\n",
        "    for img in imagens:\n",
        "        h = histograma(img, 256)\n",
        "        hc = histo_cumulativo(h, 256)\n",
        "        img_eq.append(transf(hc, img))\n",
        "\n",
        "    return img_eq\n",
        "\n",
        "#realiza a equalizacao de forma conjunta, i.e, para n imagens\n",
        "def equaliza_conj(imagens):\n",
        "    h_conjunto = np.zeros(256)\n",
        "    for img in imagens:\n",
        "        h_conjunto += histograma(img, 256)\n",
        "\n",
        "    hc_conjunto = histo_cumulativo(h_conjunto, 256)\n",
        "    total_pixels = sum(img.size for img in imagens)  # total de pixels do conjunto\n",
        "    imagens_eq = [transf(hc_conjunto, img, total=total_pixels) for img in imagens]\n",
        "\n",
        "    return imagens_eq, hc_conjunto\n",
        "\n",
        "def plot_histograms(images, titles, main_title):\n",
        "    plt.figure(figsize=(15, 10))\n",
        "\n",
        "    for i, (img, title) in enumerate(zip(images, titles)):\n",
        "        plt.subplot(2, len(images), i+1)\n",
        "        plt.imshow(img, cmap='gray')\n",
        "        plt.title(title)\n",
        "        plt.axis('off')\n",
        "\n",
        "        plt.subplot(2, len(images), i+1+len(images))\n",
        "        hist = histograma(img, 256)\n",
        "        plt.bar(range(256), hist)\n",
        "        plt.title(f'Histograma {title}')\n",
        "\n",
        "    plt.suptitle(main_title)\n",
        "    plt.tight_layout()\n",
        "    plt.show()"
      ]
    },
    {
      "cell_type": "code",
      "execution_count": null,
      "metadata": {
        "id": "i5NERk3Vhpeq"
      },
      "outputs": [],
      "source": [
        "imgs_eq = []\n",
        "imgs_eq = equaliza_indiv(imagens_cinza)\n",
        "plot_imagens(imgs_eq, ['Imagem 1', 'Imagem 2','Imagem 3'], \"Imagem Equalizadas\")"
      ]
    },
    {
      "cell_type": "markdown",
      "metadata": {
        "id": "yRK4Zaldhpeq"
      },
      "source": [
        "Aplicando o filtro de Minimos QUadrados Restritivos\n"
      ]
    },
    {
      "cell_type": "code",
      "execution_count": null,
      "metadata": {
        "id": "KYUGOslbhper"
      },
      "outputs": [],
      "source": [
        "#Filtro de ruído\n",
        "def gaussian_filter(k=3, sigma=1.0):\n",
        "    arx = np.arange((-k//2) + 1.0, (k//2) + 1.0)\n",
        "    x,y = np.meshgrid(arx, arx)\n",
        "    filt = np.exp(-(1/2) * (np.square(x) + np.square(y)) / np.square(sigma))\n",
        "\n",
        "    return np.array(filt/np.sum(filt))\n",
        "\n",
        "#Filtro Laplaciano\n",
        "def operador_laplaciano():\n",
        "    return np.array([[0,-1,  0],\n",
        "                     [-1, 4, -1],\n",
        "                     [0, -1, 0]])\n",
        "\n",
        "def pad_to_shape(arr, shape):\n",
        "    \"\"\"Faz padding de arr para o shape fornecido (centrado)\"\"\"\n",
        "    pad_y = shape[0] - arr.shape[0]\n",
        "    pad_x = shape[1] - arr.shape[1]\n",
        "    pad_top = pad_y // 2\n",
        "    pad_bottom = pad_y - pad_top\n",
        "    pad_left = pad_x // 2\n",
        "    pad_right = pad_x - pad_left\n",
        "    return np.pad(arr, ((pad_top, pad_bottom), (pad_left, pad_right)), mode='constant')\n",
        "\n",
        "#Filtro de Minimos Quadrados Restritos\n",
        "def filter_min_quad_rest(sigma, tam_f, img_deg, gama):\n",
        "    #criando os filtros de degradação(gaussiano) e limitante(laplace)\n",
        "    laplace = operador_laplaciano()\n",
        "    filt_deg = gaussian_filter(k = tam_f, sigma=sigma)\n",
        "\n",
        "    #realizando o padding nos filtros\n",
        "    filt_h_pad = pad_to_shape(filt_deg, img_deg.shape)\n",
        "    laplace_pad = pad_to_shape(laplace, img_deg.shape)\n",
        "\n",
        "\n",
        "    #aplicando a tf na imagem e filtros\n",
        "    img_deg_ft = np.fft.fft2(img_deg)\n",
        "    filt_h = np.fft.fft2(filt_h_pad)\n",
        "    filt_h_conj = np.conjugate(filt_h)\n",
        "    op_laplace = np.fft.fft2(laplace_pad)\n",
        "\n",
        "    #realizando a filtragem do dominio da frequencia ( produto na frequencia)\n",
        "    result = (filt_h_conj / (np.abs(filt_h) ** 2 + gama *( np.abs(op_laplace) ** 2))) * img_deg_ft\n",
        "\n",
        "    #aplicando a tf inversa e voltando pro dominio real\n",
        "    img_result = np.fft.ifft2(result)\n",
        "    img_result = np.fft.ifftshift(img_result)\n",
        "    img_result = np.real(img_result)\n",
        "\n",
        "    return((normalize(img_result)*255).astype(np.uint8))\n",
        "\n"
      ]
    },
    {
      "cell_type": "code",
      "execution_count": null,
      "metadata": {
        "id": "nZdeNI9bhpes"
      },
      "outputs": [],
      "source": [
        "gama = 0.5\n",
        "tam_f = 5\n",
        "sigm = 0.01\n",
        "imgs_fmqr = [ ]\n",
        "for img in imagens_cinza:\n",
        "    img_filt = filter_min_quad_rest(sigm, tam_f, img, gama)\n",
        "    imgs_fmqr.append(img_filt)"
      ]
    },
    {
      "cell_type": "code",
      "execution_count": null,
      "metadata": {
        "id": "VlFS7SADhpes"
      },
      "outputs": [],
      "source": [
        "\n",
        "plot_imagens(imgs_fmqr, ['Imagem 1', 'Imagem 2','Imagem 3'], \"Imagem Suvaizadas com Filtro de Minimos Quadrados Restritivos\")\n"
      ]
    },
    {
      "cell_type": "markdown",
      "metadata": {
        "id": "CCs8J2BNhpet"
      },
      "source": [
        "#### Correções Gamma\n",
        "\n",
        "Será aplicados em:\n",
        "* Imagens Originais\n",
        "* Imagens equalizadas\n",
        "* Imagens filtradas com Minimos Quadrados restritivos"
      ]
    },
    {
      "cell_type": "code",
      "execution_count": null,
      "metadata": {
        "id": "oVHfqCsEhpet"
      },
      "outputs": [],
      "source": [
        "#Define a equação do realce gama\n",
        "def realce_gama(img, gama):\n",
        "    img_gama = img**(1/gama)\n",
        "    img_gama = normalize(img_gama)\n",
        "    img_norm = (img_gama * 255).astype(np.uint8)\n",
        "\n",
        "    return img_norm\n",
        "#Aplica a correção gama na imagem\n",
        "def correc_gamma(imagem, gama):\n",
        "    imagens_gama = realce_gama(imagem, gama)\n",
        "    return imagens_gama"
      ]
    },
    {
      "cell_type": "code",
      "execution_count": null,
      "metadata": {
        "id": "FUafkmRJhpet"
      },
      "outputs": [],
      "source": [
        "gama1 = 0.75\n",
        "gama2 = 2.0\n",
        "io_gama1 = [correc_gamma(img,gama1) for img in imagens_cinza]\n",
        "io_gama2 = [correc_gamma(img,gama2) for img in imagens_cinza]\n",
        "\n",
        "plot_imagens(io_gama1, ['Imagem 1', 'Imagem 2','Imagem 3'], f\"Imagem Originais com correção gamma = {gama1}\")\n",
        "plot_imagens(io_gama2, ['Imagem 1', 'Imagem 2','Imagem 3'], f\"Imagem Originais com correção gamma = {gama2}\")"
      ]
    },
    {
      "cell_type": "code",
      "execution_count": null,
      "metadata": {
        "id": "l2EUUSTihpeu"
      },
      "outputs": [],
      "source": [
        "gama1 = 0.75\n",
        "gama2 = 2.0\n",
        "ieq_gama1 = [correc_gamma(img,gama1) for img in imgs_eq]\n",
        "ieq_gama2 = [correc_gamma(img,gama2) for img in imgs_eq]\n",
        "\n",
        "plot_imagens(ieq_gama1, ['Imagem 1', 'Imagem 2','Imagem 3'], f\"Imagem Equalizadas com correção gamma = {gama1}\")\n",
        "plot_imagens(ieq_gama2, ['Imagem 1', 'Imagem 2','Imagem 3'], f\"Imagem Equalizadas com correção gamma = {gama2}\")"
      ]
    },
    {
      "cell_type": "code",
      "execution_count": null,
      "metadata": {
        "id": "lwh2DVQShpeu"
      },
      "outputs": [],
      "source": [
        "gama1 = 0.75\n",
        "gama2 = 2.0\n",
        "ifilt_gama1 = [correc_gamma(img,gama1) for img in imgs_fmqr]\n",
        "ifilt_gama2 = [correc_gamma(img,gama2) for img in imgs_fmqr]\n",
        "\n",
        "plot_imagens(ifilt_gama1, ['Imagem 1', 'Imagem 2','Imagem 3'], f\"Imagem FMQR com correção gamma = {gama1}\")\n",
        "plot_imagens(ifilt_gama2, ['Imagem 1', 'Imagem 2','Imagem 3'], f\"Imagem FMQR com correção gamma = {gama2}\")"
      ]
    },
    {
      "cell_type": "code",
      "execution_count": null,
      "metadata": {
        "id": "GkW4z84-hpev"
      },
      "outputs": [],
      "source": [
        "def metodo_otsu(imagem):\n",
        "    #calculando o histograma da imagem\n",
        "    histo, bin_edges = np.histogram(imagem, bins=np.arange(257))\n",
        "\n",
        "    #calculando o tamanho da imagem\n",
        "    total_pixels = imagem.size\n",
        "    current_max, limiar = 0,0\n",
        "\n",
        "    #calculando a media global da imagem\n",
        "    media_global = np.sum(histo * np.arange(256))/total_pixels\n",
        "\n",
        "    #variaveis auxiliares\n",
        "    peso_fundo, media_fundo = 0, 0\n",
        "    soma_fundo = 0\n",
        "\n",
        "    for i in range(256):\n",
        "        #peso de fundo\n",
        "        peso_fundo += histo[i]\n",
        "\n",
        "        if peso_fundo == 0:\n",
        "            continue\n",
        "\n",
        "        #veirificando o primeiro plano\n",
        "        peso_plan1 =  total_pixels - peso_fundo\n",
        "\n",
        "        if peso_plan1 == 0:\n",
        "            break\n",
        "\n",
        "        #media do fundo\n",
        "        soma_fundo += i * histo[i]\n",
        "        media_fundo = soma_fundo / peso_fundo\n",
        "\n",
        "        #media primeiro plano\n",
        "        media_plan1 =(media_global * total_pixels - soma_fundo)/peso_plan1\n",
        "\n",
        "        #calculando a variancia intra_classe\n",
        "        var_interclas = peso_fundo * peso_plan1 * (media_fundo - media_plan1) ** 2\n",
        "\n",
        "        #maxima var e limiarização\n",
        "        if var_interclas > current_max:\n",
        "            current_max = var_interclas\n",
        "            limiar = i\n",
        "\n",
        "    return limiar\n",
        ""
      ]
    },
    {
      "cell_type": "code",
      "execution_count": null,
      "metadata": {
        "id": "yJtptrEOhpew"
      },
      "outputs": [],
      "source": [
        "def aplicar_otsu(list_img):\n",
        "    # Recebe uma lista de imagens e retorna uma outra lista com imagens binarias\n",
        "    imagens_bin = []\n",
        "    # Usando tqdm para visualizar o progresso\n",
        "    for img in tqdm(list_img, desc=\"Aplicando Otsu\"):\n",
        "        # Calcula o limiar para a imagem atual\n",
        "        limiar = metodo_otsu(img)\n",
        "        # Binariza a imagem com base no limiar e adiciona à lista\n",
        "        bin_img = (img > limiar).astype(np.uint8) * 255\n",
        "        imagens_bin.append(bin_img)\n",
        "    return imagens_bin"
      ]
    },
    {
      "cell_type": "code",
      "execution_count": null,
      "metadata": {
        "id": "rGQ23EAqhpew"
      },
      "outputs": [],
      "source": [
        "plot_histograms(imgs_fmqr, ['Imagem 1', 'Imagem 2','Imagem 3'] , 'Histogramas')\n",
        "plot_histograms(ifilt_gama1, ['Imagem 1', 'Imagem 2','Imagem 3'] , 'Histogramas')\n",
        "plot_histograms(ifilt_gama2, ['Imagem 1', 'Imagem 2','Imagem 3'] , 'Histogramas')"
      ]
    },
    {
      "cell_type": "code",
      "execution_count": null,
      "metadata": {
        "id": "Nl1JHW_Ahpex"
      },
      "outputs": [],
      "source": [
        "io_otsu0 = aplicar_otsu(imagens_cinza)\n",
        "io_otsu1 = aplicar_otsu(io_gama1)\n",
        "io_otsu2 = aplicar_otsu(io_gama2)\n",
        "\n",
        "plot_imagens(io_otsu0, ['Imagem 1', 'Imagem 2','Imagem 3'], f\"Metodo de Otsu nas imagens orginais\")\n",
        "plot_imagens(io_otsu1, ['Imagem 1', 'Imagem 2','Imagem 3'], f\"Metodo de Otsu nas io com gama = 0.75\")\n",
        "plot_imagens(io_otsu2, ['Imagem 1', 'Imagem 2','Imagem 3'], f\"Metodo de Otsu nas io com gama = 2.0\")\n",
        "\n"
      ]
    },
    {
      "cell_type": "markdown",
      "metadata": {
        "id": "1luArtFmhpey"
      },
      "source": [
        "##### Imagem Equalizada com Correção Gama"
      ]
    },
    {
      "cell_type": "code",
      "execution_count": null,
      "metadata": {
        "id": "S09CXPEDhpez"
      },
      "outputs": [],
      "source": [
        "ieq_otsu0 = aplicar_otsu(imagens_cinza)\n",
        "ieq_otsu1 = aplicar_otsu(ieq_gama1)\n",
        "ieq_otsu2 = aplicar_otsu(ieq_gama2)\n",
        "\n",
        "plot_imagens(ieq_otsu0, ['Imagem 1', 'Imagem 2','Imagem 3'], f\"Metodo de Otsu nas imagens equalizadas\")\n",
        "plot_imagens(ieq_otsu1, ['Imagem 1', 'Imagem 2','Imagem 3'], f\"Metodo de Otsu nas ieq com gama = 0.75\")\n",
        "plot_imagens(ieq_otsu2, ['Imagem 1', 'Imagem 2','Imagem 3'], f\"Metodo de Otsu nas ieq com gama = 2.0\")\n",
        "\n"
      ]
    },
    {
      "cell_type": "code",
      "execution_count": null,
      "metadata": {
        "id": "jCiBAHorhpe0"
      },
      "outputs": [],
      "source": [
        "if_otsu0 = aplicar_otsu(imgs_fmqr)\n",
        "plot_imagens(if_otsu0, ['Imagem 1', 'Imagem 2','Imagem 3'], f\"Metodo de Otsu nas imagens FMQR\")\n"
      ]
    },
    {
      "cell_type": "code",
      "execution_count": null,
      "metadata": {
        "id": "tZPJQ55ehpe0"
      },
      "outputs": [],
      "source": [
        "if_otsu0 = aplicar_otsu(imgs_fmqr)\n",
        "if_otsu1 = aplicar_otsu(ifilt_gama1)\n",
        "if_otsu2 = aplicar_otsu(ifilt_gama2)\n",
        "\n",
        "plot_imagens(if_otsu0, ['Imagem 1', 'Imagem 2','Imagem 3'], f\"Metodo de Otsu nas imagens FMQR\")\n",
        "plot_imagens(if_otsu1, ['Imagem 1', 'Imagem 2','Imagem 3'], f\"Metodo de Otsu nas if com gama = 0.75\")\n",
        "plot_imagens(if_otsu2, ['Imagem 1', 'Imagem 2','Imagem 3'], f\"Metodo de Otsu nas if com gama = 2.0\")\n",
        "\n"
      ]
    },
    {
      "cell_type": "markdown",
      "metadata": {
        "id": "qgoLVSWZhpe1"
      },
      "source": [
        "#### Segmentação com Metodo de Yen\n",
        "\n",
        "Utilizando a biblioteca skimage"
      ]
    },
    {
      "cell_type": "code",
      "execution_count": null,
      "metadata": {
        "id": "A-Lz6ns6hpe1"
      },
      "outputs": [],
      "source": [
        "def aplicar_Yen(list_img):\n",
        "    imagens_bin = []\n",
        "    for img in tqdm(list_img, desc=\"Binarizando com Yen\"):\n",
        "\n",
        "        #calculo do limiar pelo skimage\n",
        "        limiar = filters.threshold_yen(img)\n",
        "\n",
        "        #cria a img binaria\n",
        "        mascara_booleana = (img > limiar)\n",
        "\n",
        "        #normaliza pra 0-255\n",
        "        imagem_final = mascara_booleana.astype(np.uint8) * 255\n",
        "        imagens_bin.append(imagem_final)\n",
        "\n",
        "\n",
        "    return imagens_bin"
      ]
    },
    {
      "cell_type": "code",
      "execution_count": null,
      "metadata": {
        "id": "4GUJf3s1hpe2"
      },
      "outputs": [],
      "source": [
        "#Aplicando Yen em imagens filtrada com correções gama\n",
        "io_Yen0 = aplicar_Yen(imagens_cinza)\n",
        "io_Yen1 = aplicar_Yen(io_gama1)\n",
        "io_Yen2 = aplicar_Yen(io_gama2)\n",
        "\n",
        "plot_imagens(io_Yen0, ['Imagem 1', 'Imagem 2','Imagem 3'], f\"Metodo de Yen nas imagens originais\")\n",
        "plot_imagens(io_Yen1, ['Imagem 1', 'Imagem 2','Imagem 3'], f\"Metodo de Yen nas io com gama = 0.75\")\n",
        "plot_imagens(io_Yen2, ['Imagem 1', 'Imagem 2','Imagem 3'], f\"Metodo de Yen nas io com gama = 2.0\")\n",
        "\n"
      ]
    },
    {
      "cell_type": "code",
      "execution_count": null,
      "metadata": {
        "id": "DyPSTvfjhpe2"
      },
      "outputs": [],
      "source": [
        "#Aplicando Yen em imagens filtrada com correções gama\n",
        "if_Yen0 = aplicar_Yen(imgs_fmqr)\n",
        "if_Yen1 = aplicar_Yen(ifilt_gama1)\n",
        "if_Yen2 = aplicar_Yen(ifilt_gama2)\n",
        "\n",
        "plot_imagens(if_Yen0, ['Imagem 1', 'Imagem 2','Imagem 3'], f\"Metodo de Yen nas imagens FMQR\")\n",
        "plot_imagens(if_Yen1, ['Imagem 1', 'Imagem 2','Imagem 3'], f\"Metodo de Yen nas if com gama = 0.75\")\n",
        "plot_imagens(if_Yen2, ['Imagem 1', 'Imagem 2','Imagem 3'], f\"Metodo de Yen nas if com gama = 2.0\")\n",
        "\n"
      ]
    },
    {
      "cell_type": "markdown",
      "metadata": {
        "id": "DD9npugChpe9"
      },
      "source": [
        "#### Aplicando Morfologia Matematica"
      ]
    },
    {
      "cell_type": "code",
      "execution_count": null,
      "metadata": {
        "id": "fxwWUYILhpe-"
      },
      "outputs": [],
      "source": [
        "def open_close(img, selem):\n",
        "\n",
        "    #realizando o processo de abertura ( erosão + dilatação)\n",
        "    img_opened = morphology.binary_opening(img,selem)\n",
        "\n",
        "    #realizando o processo de fechamentro (dilatação + erosão)\n",
        "    img_result = morphology.closing(img_opened, selem)\n",
        "\n",
        "    #retorna uma nova img\n",
        "    return img_result\n",
        "\n",
        "def aplicar_Morph(list_img, selem):\n",
        "    # Recebe uma lista de imagens e retorna uma outra lista com imagens\n",
        "    imgs_morph = []\n",
        "    # Usando tqdm para visualizar o progresso\n",
        "    for img in tqdm(list_img, desc=\"Aplicando Morfologia Matemática (Abertura e  Fechamento)\"):\n",
        "        morph = open_close(img, selem)\n",
        "        imgs_morph.append(morph)\n",
        "    return imgs_morph"
      ]
    },
    {
      "cell_type": "code",
      "execution_count": null,
      "metadata": {
        "id": "o7NoGku5hpe-"
      },
      "outputs": [],
      "source": [
        "selem = morphology.square(4)\n",
        "io_m0 = aplicar_Morph(io_otsu0,selem)\n",
        "io_m1 = aplicar_Morph(io_otsu1,selem)\n",
        "io_m2 = aplicar_Morph(ieq_otsu2,selem)\n",
        "\n",
        "plot_imagens(io_m0, ['Imagem 1', 'Imagem 2','Imagem 3'], f\"Morfologia Matematica(O&C) em io_Otsu0\")\n",
        "plot_imagens(io_m1, ['Imagem 1', 'Imagem 2','Imagem 3'], f\"Morfologia Matematica(O&C) em io_Otuso1\")\n",
        "plot_imagens(io_m2, ['Imagem 1', 'Imagem 2','Imagem 3'], f\"Morfologia Matematica(O&C) em io_Otuso2\")\n",
        "\n"
      ]
    },
    {
      "cell_type": "code",
      "execution_count": null,
      "metadata": {
        "id": "011gu7Lzhpe-"
      },
      "outputs": [],
      "source": [
        "selem = morphology.square(4)\n",
        "ieq_m0 = aplicar_Morph(ieq_otsu0,selem)\n",
        "ieq_m1 = aplicar_Morph(ieq_otsu1,selem)\n",
        "ieq_m2 = aplicar_Morph(ieq_otsu2,selem)\n",
        "\n",
        "plot_imagens(ieq_m0, ['Imagem 1', 'Imagem 2','Imagem 3'], f\"Morfologia Matematica(O&C) em ieq_Otsu0\")\n",
        "plot_imagens(ieq_m1, ['Imagem 1', 'Imagem 2','Imagem 3'], f\"Morfologia Matematica(O&C) em ieq_Otuso1\")\n",
        "plot_imagens(ieq_m2, ['Imagem 1', 'Imagem 2','Imagem 3'], f\"Morfologia Matematica(O&C) em ieq_Otuso2\")\n"
      ]
    },
    {
      "cell_type": "code",
      "execution_count": null,
      "metadata": {
        "id": "2T364OM6hpfA"
      },
      "outputs": [],
      "source": [
        "selem = morphology.square(4)\n",
        "if_m0 = aplicar_Morph(if_otsu0,selem)\n",
        "if_m1 = aplicar_Morph(if_otsu1,selem)\n",
        "if_m2 = aplicar_Morph(if_otsu2,selem)\n",
        "\n",
        "plot_imagens(if_m0, ['Imagem 1', 'Imagem 2','Imagem 3'], f\"Morfologia Matematica(O&C) em if_Otsu0\")\n",
        "plot_imagens(if_m1, ['Imagem 1', 'Imagem 2','Imagem 3'], f\"Morfologia Matematica(O&C) em if_Otuso1\")\n",
        "plot_imagens(if_m2, ['Imagem 1', 'Imagem 2','Imagem 3'], f\"Morfologia Matematica(O&C) em if_Otuso2\")\n"
      ]
    },
    {
      "cell_type": "markdown",
      "source": [
        "#Pipeline"
      ],
      "metadata": {
        "id": "lNJbL3_S5Hm7"
      }
    },
    {
      "cell_type": "code",
      "source": [
        "def luminance(image):\n",
        "    l = 0.2126 * image[:, :, 0] + 0.7152 * image[:, :, 1] + 0.0722 * image[:, :, 2]\n",
        "    return l\n",
        "\n",
        "# Função auxiliar para normalizar a imagem para visualização (valores entre 0 e 1)\n",
        "def normalize(img):\n",
        "    img = img.astype(np.float64)\n",
        "    min_val = np.min(img)\n",
        "    max_val = np.max(img)\n",
        "    if max_val > min_val:\n",
        "        img = (img - min_val) / (max_val - min_val)\n",
        "    else:\n",
        "        img = img * 0  # imagem preta se max==min\n",
        "    return img\n",
        "\n",
        "def converter_uint8(img_float):\n",
        "    #Converte uma imagem float [0, 1] para uint8 (0-255)\n",
        "    return (img_float * 255).astype(np.uint8)"
      ],
      "metadata": {
        "id": "WxuZXHDtOpC3"
      },
      "execution_count": 7,
      "outputs": []
    },
    {
      "cell_type": "code",
      "source": [
        "##FUNCÕES DE REALCE\n",
        "#Histograma\n",
        "#Computa a distribuição de intensidades de pixel em uma img\n",
        "def histograma(img, tam):\n",
        "    acumulador = np.zeros((tam,))\n",
        "    h, w = img.shape\n",
        "    for i in range(h):\n",
        "        for j in range(w):\n",
        "            acumulador[img[i, j]] += 1\n",
        "    return acumulador\n",
        "\n",
        "#Histograma Cumulativo\n",
        "#Computa a proporcao de intensidades\n",
        "def histo_cumulativo(h, L):\n",
        "    acumulador = np.zeros((L,))\n",
        "    acumulador[0] = h[0]\n",
        "    for i in range(1, L):\n",
        "        acumulador[i] = acumulador[i - 1] + h[i]\n",
        "    return acumulador\n",
        "\n",
        "#Funcao que aplica uma equalizacao no histograma\n",
        "#T(z) = ((L-1)/ total_pixels) * Hc(z)\n",
        "def transf(hc, img, total=None):\n",
        "\n",
        "    h, w = img.shape\n",
        "    L = 256  # níveis de cinza\n",
        "    if total is None:\n",
        "        total = float(h * w)\n",
        "    new_img = np.zeros_like(img, dtype=np.uint8)\n",
        "    aux = (L-1)/total\n",
        "    for i in range(h):\n",
        "        for j in range(w):\n",
        "            z = img[i, j]\n",
        "            new_val = aux * hc[z]\n",
        "            new_img[i, j] = new_val\n",
        "\n",
        "    return new_img.astype(np.uint8)\n",
        "\n",
        "#Realiza a equalizacao de forma individual\n",
        "def equaliza_indiv(imagens):\n",
        "    img_eq =  []\n",
        "    for img in imagens:\n",
        "        h = histograma(img, 256)\n",
        "        hc = histo_cumulativo(h, 256)\n",
        "        img_eq.append(transf(hc, img))\n",
        "\n",
        "    return img_eq\n",
        "\n",
        "#realiza a equalizacao de forma conjunta, i.e, para n imagens\n",
        "def equaliza_conj(imagens):\n",
        "    h_conjunto = np.zeros(256)\n",
        "    for img in imagens:\n",
        "        h_conjunto += histograma(img, 256)\n",
        "\n",
        "    hc_conjunto = histo_cumulativo(h_conjunto, 256)\n",
        "    total_pixels = sum(img.size for img in imagens)  # total de pixels do conjunto\n",
        "    imagens_eq = [transf(hc_conjunto, img, total=total_pixels) for img in imagens]\n",
        "\n",
        "    return imagens_eq, hc_conjunto\n",
        "\n",
        "def plot_histograms(images, titles, main_title):\n",
        "    plt.figure(figsize=(15, 10))\n",
        "\n",
        "    for i, (img, title) in enumerate(zip(images, titles)):\n",
        "        plt.subplot(2, len(images), i+1)\n",
        "        plt.imshow(img, cmap='gray')\n",
        "        plt.title(title)\n",
        "        plt.axis('off')\n",
        "\n",
        "        plt.subplot(2, len(images), i+1+len(images))\n",
        "        hist = histograma(img, 256)\n",
        "        plt.bar(range(256), hist)\n",
        "        plt.title(f'Histograma {title}')\n",
        "\n",
        "    plt.suptitle(main_title)\n",
        "    plt.tight_layout()\n",
        "    plt.show()"
      ],
      "metadata": {
        "id": "UQFMNrJFOkBv"
      },
      "execution_count": 8,
      "outputs": []
    },
    {
      "cell_type": "code",
      "source": [
        "#Filtro de ruído\n",
        "def gaussian_filter(k=3, sigma=1.0):\n",
        "    arx = np.arange((-k//2) + 1.0, (k//2) + 1.0)\n",
        "    x,y = np.meshgrid(arx, arx)\n",
        "    filt = np.exp(-(1/2) * (np.square(x) + np.square(y)) / np.square(sigma))\n",
        "\n",
        "    return np.array(filt/np.sum(filt))\n",
        "\n",
        "#Filtro Laplaciano\n",
        "def operador_laplaciano():\n",
        "    return np.array([[0,-1,  0],\n",
        "                     [-1, 4, -1],\n",
        "                     [0, -1, 0]])\n",
        "\n",
        "def pad_to_shape(arr, shape):\n",
        "    \"\"\"Faz padding de arr para o shape fornecido (centrado)\"\"\"\n",
        "    pad_y = shape[0] - arr.shape[0]\n",
        "    pad_x = shape[1] - arr.shape[1]\n",
        "    pad_top = pad_y // 2\n",
        "    pad_bottom = pad_y - pad_top\n",
        "    pad_left = pad_x // 2\n",
        "    pad_right = pad_x - pad_left\n",
        "    return np.pad(arr, ((pad_top, pad_bottom), (pad_left, pad_right)), mode='constant')\n",
        "\n",
        "#Filtro de Minimos Quadrados Restritos\n",
        "def filter_min_quad_rest(sigma, tam_f, img_deg, gama):\n",
        "    #criando os filtros de degradação(gaussiano) e limitante(laplace)\n",
        "    laplace = operador_laplaciano()\n",
        "    filt_deg = gaussian_filter(k = tam_f, sigma=sigma)\n",
        "\n",
        "    #realizando o padding nos filtros\n",
        "    filt_h_pad = pad_to_shape(filt_deg, img_deg.shape)\n",
        "    laplace_pad = pad_to_shape(laplace, img_deg.shape)\n",
        "\n",
        "\n",
        "    #aplicando a tf na imagem e filtros\n",
        "    img_deg_ft = np.fft.fft2(img_deg)\n",
        "    filt_h = np.fft.fft2(filt_h_pad)\n",
        "    filt_h_conj = np.conjugate(filt_h)\n",
        "    op_laplace = np.fft.fft2(laplace_pad)\n",
        "\n",
        "    #realizando a filtragem do dominio da frequencia ( produto na frequencia)\n",
        "    result = (filt_h_conj / (np.abs(filt_h) ** 2 + gama *( np.abs(op_laplace) ** 2))) * img_deg_ft\n",
        "\n",
        "    #aplicando a tf inversa e voltando pro dominio real\n",
        "    img_result = np.fft.ifft2(result)\n",
        "    img_result = np.fft.ifftshift(img_result)\n",
        "    img_result = np.real(img_result)\n",
        "\n",
        "    return((normalize(img_result)*255).astype(np.uint8))\n",
        "\n",
        "\n",
        "#Define a equação do realce gama\n",
        "def realce_gama(img, gama):\n",
        "    img_gama = img**(1/gama)\n",
        "    img_gama = normalize(img_gama)\n",
        "    img_norm = (img_gama * 255).astype(np.uint8)\n",
        "\n",
        "    return img_norm\n",
        "#Aplica a correção gama na imagem\n",
        "def correc_gamma(imagem, gama):\n",
        "    imagens_gama = realce_gama(imagem, gama)\n",
        "    return imagens_gama\n",
        "def metodo_otsu(imagem):\n",
        "    #calculando o histograma da imagem\n",
        "    histo, bin_edges = np.histogram(imagem, bins=np.arange(257))\n",
        "\n",
        "    #calculando o tamanho da imagem\n",
        "    total_pixels = imagem.size\n",
        "    current_max, limiar = 0,0\n",
        "\n",
        "    #calculando a media global da imagem\n",
        "    media_global = np.sum(histo * np.arange(256))/total_pixels\n",
        "\n",
        "    #variaveis auxiliares\n",
        "    peso_fundo, media_fundo = 0, 0\n",
        "    soma_fundo = 0\n",
        "\n",
        "    for i in range(256):\n",
        "        #peso de fundo\n",
        "        peso_fundo += histo[i]\n",
        "\n",
        "        if peso_fundo == 0:\n",
        "            continue\n",
        "\n",
        "        #veirificando o primeiro plano\n",
        "        peso_plan1 =  total_pixels - peso_fundo\n",
        "\n",
        "        if peso_plan1 == 0:\n",
        "            break\n",
        "\n",
        "        #media do fundo\n",
        "        soma_fundo += i * histo[i]\n",
        "        media_fundo = soma_fundo / peso_fundo\n",
        "\n",
        "        #media primeiro plano\n",
        "        media_plan1 =(media_global * total_pixels - soma_fundo)/peso_plan1\n",
        "\n",
        "        #calculando a variancia intra_classe\n",
        "        var_interclas = peso_fundo * peso_plan1 * (media_fundo - media_plan1) ** 2\n",
        "\n",
        "        #maxima var e limiarização\n",
        "        if var_interclas > current_max:\n",
        "            current_max = var_interclas\n",
        "            limiar = i\n",
        "\n",
        "    return limiar\n",
        "\n",
        "def open_close(img, selem):\n",
        "\n",
        "    #realizando o processo de abertura ( erosão + dilatação)\n",
        "    img_opened = morphology.binary_opening(img,selem)\n",
        "\n",
        "    #realizando o processo de fechamentro (dilatação + erosão)\n",
        "    img_result = morphology.closing(img_opened, selem)\n",
        "\n",
        "    #retorna uma nova img\n",
        "    return img_result\n",
        "\n",
        "def aplicar_Morph(list_img, selem):\n",
        "    # Recebe uma lista de imagens e retorna uma outra lista com imagens\n",
        "    imgs_morph = []\n",
        "    # Usando tqdm para visualizar o progresso\n",
        "    for img in tqdm(list_img, desc=\"Aplicando Morfologia Matemática (Abertura e  Fechamento)\"):\n",
        "        morph = open_close(img, selem)\n",
        "        imgs_morph.append(morph)\n",
        "    return imgs_morph"
      ],
      "metadata": {
        "id": "sMXwpoCCOKWK"
      },
      "execution_count": 9,
      "outputs": []
    },
    {
      "cell_type": "code",
      "source": [
        "from dataclasses import dataclass, field\n",
        "import pandas as pd\n",
        "import numpy as np\n",
        "from typing import List\n",
        "from sklearn.metrics import jaccard_score\n",
        "\n",
        "\n",
        "def etapa_cinza(source_data,target_data):\n",
        "  new_dims = (85,85)\n",
        "  rgb_image = source_data[0][\"image\"]  # (3, H, W)\n",
        "  img_transp = rgb_image.transpose((1,2,0)) # converte para (H, W, 3)\n",
        "  mask = target_data[\"image\"]\n",
        "  original_mask = mask.squeeze()\n",
        "\n",
        "  # Opções para manter a característica binária da mascara\n",
        "  downscaled_mask = resize(\n",
        "      original_mask,\n",
        "      new_dims,\n",
        "      order=0,\n",
        "      preserve_range=True,\n",
        "      anti_aliasing=False\n",
        "  )\n",
        "\n",
        "  downscaled_mask = downscaled_mask.astype(original_mask.dtype)\n",
        "  mask = downscaled_mask\n",
        "\n",
        "\n",
        "  rgb   = converter_uint8(normalize(img_transp))\n",
        "  cinza = converter_uint8(normalize(luminance(img_transp)))\n",
        "  # mask.transpose((1,2,0))\n",
        "  return rgb,cinza,mask\n",
        "\n",
        "def etapa_filtros(img_cinza,gamma=0.5,sigma=0.01,tam_f=5):\n",
        "  img_eq = equaliza_indiv([img_cinza])[0]\n",
        "  img_mq = filter_min_quad_rest(sigma, tam_f, img_cinza, gamma)\n",
        "  return img_eq,img_mq,img_cinza ## equalizada, minquad, original\n",
        "\n",
        "def etapa_correcao(img_cinza,gammas:list[float]):\n",
        "  return [correc_gamma(img_cinza,gamma) for gamma in gammas]\n",
        "\n",
        "def etapa_otsu(img_cinza):\n",
        "  limiar = metodo_otsu(img_cinza)\n",
        "  bin_img = (img_cinza > limiar)#.astype(np.uint8) * 255 # Binariza a imagem com base no limiar\n",
        "  return bin_img\n",
        "\n",
        "def etapa_morfologia(img_bin,morf_obj):\n",
        "  return open_close(img_bin,morf_obj)\n",
        "\n",
        "def etapa_score(true_mask,img_bin,method):\n",
        "  if method=='jaccard':\n",
        "    return jaccard_score(true_mask.flatten(),img_bin.flatten(),zero_division=1)\n",
        "  else:\n",
        "    raise ValueError(f\"Score method [{method}] not allowed\")\n",
        "\n",
        "\n",
        "\n",
        "\n",
        "\n",
        "\n",
        "type2filter = {0:'original',1:'equalizada',2:'min quad'}\n",
        "filter2type = {value:key for key,value in type2filter.items()}\n",
        "\n",
        "\n",
        "@dataclass\n",
        "class IMG:\n",
        "  _img: List[tuple[np.ndarray,str]]  # armazena a lista real\n",
        "  filter_type:int\n",
        "  gamma:float=None\n",
        "  morf_applied:bool=False\n",
        "  score_jaccard:float=None\n",
        "  append_allowed:bool=False ## define como substitui o img\n",
        "\n",
        "  @property\n",
        "  def img(self):\n",
        "    return self._img[-1][0] if self._img else None\n",
        "\n",
        "  @img.setter\n",
        "  def img(self, value):\n",
        "      if not (isinstance(value,list) or isinstance(value,tuple)):\n",
        "        value = (value,self._img[-1][1])\n",
        "      if self.append_allowed and self._img:\n",
        "          self._img.append(value)\n",
        "      else:\n",
        "          self._img = [value]\n",
        "  def get_imgs(self):\n",
        "    return self._img\n",
        "\n",
        "  def to_dict(self):\n",
        "    return {'gamma':self.gamma,\n",
        "     'filter':type2filter[self.filter_type],\n",
        "     'morf_applied':self.morf_applied,\n",
        "     'score_jaccard':self.score_jaccard}\n",
        "  def __str__(self):\n",
        "    return f\"\"\"\n",
        "    Descricoes: {[img[1] for img in self._img]}\n",
        "    Gamma: {self.gamma}\n",
        "    Filter: {type2filter[self.filter_type]}\n",
        "    IsMorf: {self.morf_applied}\n",
        "    \"\"\"\n",
        "\n",
        "\n",
        "def pipeline(source_data,target_data,morf_obj,gamma_values=[0.75,2.0,1.0],\n",
        "             gamma_filtro=0.5,sigma_filtro=0.01,filtro_tamf=5,verbose=False,return_imgs=False):\n",
        "  img_rgb, img_cinza, true_mask = etapa_cinza(source_data,target_data)\n",
        "\n",
        "  '''## etapa filtros\n",
        "  if verbose: print(\"Etapa filtros\")\n",
        "  img_eq, img_mq, img_cinza = etapa_filtros(img_cinza,gamma=gamma_filtro,sigma=sigma_filtro,tam_f=filtro_tamf)\n",
        "\n",
        "  ## realiza a correção gamma\n",
        "  if verbose: print(\"Etapa correção gamma\")\n",
        "  resultados:list[IMG] = []\n",
        "  for filter_type,img_base in [(0,img_cinza),(1,img_eq),(2,img_mq)]:\n",
        "    imgs_corrigidas = etapa_correcao(img_base,gamma_values)\n",
        "    for img_corr,gamma in list(zip(imgs_corrigidas,gamma_values)):\n",
        "      resultados.append(IMG(\n",
        "          [(img_rgb,'original'),\n",
        "            (img_cinza,'cinza'),\n",
        "           (img_base,'filtro'),\n",
        "           (img_corr,'gamma')],\n",
        "          filter_type=filter_type,gamma=gamma,append_allowed=return_imgs ## [luminancia,filtro,correcao]\n",
        "      ))'''\n",
        "  if verbose: print(\"Etapa correção gamma\")\n",
        "\n",
        "  # Aplica correção gama diretamente na imagem cinza original\n",
        "  imgs_corrigidas = [etapa_correcao(img_cinza, [gamma]) for gamma in gamma_values]  # retorna lista de listas\n",
        "  imgs_corrigidas = [imgs[0] for imgs in imgs_corrigidas]  # extrai imagem corrigida de cada lista\n",
        "\n",
        "  resultados: list[IMG] = []\n",
        "\n",
        "  for img_corr, gamma in zip(imgs_corrigidas, gamma_values):\n",
        "      if verbose: print(f\"Aplicando filtros na imagem com gamma={gamma}\")\n",
        "\n",
        "      # Agora aplica equalização e filtros NA IMAGEM CORRIGIDA\n",
        "      img_eq, img_mq, img_corr_gama = etapa_filtros(\n",
        "          img_corr,\n",
        "          gamma=gamma_filtro,  # não aplicar gamma de novo nos filtros\n",
        "          sigma=sigma_filtro,\n",
        "          tam_f=filtro_tamf\n",
        "      )\n",
        "\n",
        "      # Adiciona resultado para cada filtro\n",
        "      for filter_type, img_base in [(0, img_corr), (1, img_eq), (2, img_mq)]:\n",
        "        resultados.append(IMG([\n",
        "            (img_rgb, 'original'),\n",
        "            (img_cinza, 'cinza'),\n",
        "            (img_corr, 'gamma'),\n",
        "            (img_base, 'filtro')\n",
        "        ],\n",
        "        filter_type=filter_type,\n",
        "        gamma=gamma,\n",
        "        append_allowed=return_imgs\n",
        "    ))\n",
        "\n",
        "\n",
        "\n",
        "\n",
        "  ## passa o otsu em todas as imagens\n",
        "  if verbose: print(f\"Etapa OTSU - {len(resultados)} imagens\")\n",
        "  for img_object in resultados:\n",
        "    img_object.img = (etapa_otsu(img_object.img),'otsu')\n",
        "\n",
        "  ## faz um outro conjunto com morfologia\n",
        "  if verbose: print(f\"Etapa Morfologia - {len(resultados)} imagens\")\n",
        "\n",
        "  resultados_morf = []\n",
        "  for img_object in resultados:\n",
        "    img_morf = etapa_morfologia(img_object.img,morf_obj)\n",
        "    historico_imgs = img_object.get_imgs()\n",
        "    historico_imgs.append((img_morf,'morf'))\n",
        "    resultados_morf.append(IMG(historico_imgs,\n",
        "                          filter_type=img_object.filter_type,\n",
        "                          gamma=img_object.gamma,\n",
        "                          morf_applied=True))\n",
        "  resultados.extend(resultados_morf)\n",
        "\n",
        "  ## etapa de calcular score\n",
        "  if verbose: print(f\"Etapa Score - {len(resultados)} imagens\")\n",
        "  for img_object in resultados:\n",
        "    img_object.img = normalize(img_object.img) ## normaliza para 0,1 pra poder ficar no formato do sklearn\n",
        "    img_object.score_jaccard = etapa_score(true_mask,img_object.img,method='jaccard')\n",
        "\n",
        "  return resultados\n",
        "\n",
        "def IMGs2Dataframe(resultados:list[IMG]):\n",
        "  df = pd.DataFrame([img_object.to_dict() for img_object in resultados])\n",
        "  return df\n"
      ],
      "metadata": {
        "id": "xYFO-nHi5HES"
      },
      "execution_count": 21,
      "outputs": []
    },
    {
      "cell_type": "code",
      "source": [
        "## mostrando o pipeline funcionando\n",
        "selem = morphology.square(4)\n",
        "for source_data, target_data in tqdm(dataset, desc=\"Vetorizando Imagens\"):\n",
        "  resultados_primeira_imagem = pipeline(source_data,target_data,selem,verbose=True,return_imgs=True)\n",
        "  break\n",
        "df_img1 = IMGs2Dataframe(resultados_primeira_imagem)\n",
        "df_img1 = df_img1.sort_values('score_jaccard',ascending=False) ## ordena pelo com maior score\n",
        "df_img1.head(19) ## só mostra o top 5\n"
      ],
      "metadata": {
        "colab": {
          "base_uri": "https://localhost:8080/",
          "height": 807
        },
        "id": "x7C3iZLEKVKY",
        "outputId": "efbf0b6a-69e8-4a88-fb61-4f03680c5b9d"
      },
      "execution_count": 25,
      "outputs": [
        {
          "output_type": "stream",
          "name": "stderr",
          "text": [
            "/tmp/ipython-input-25-3643871541.py:2: FutureWarning: `square` is deprecated since version 0.25 and will be removed in version 0.27. Use `skimage.morphology.footprint_rectangle` instead.\n",
            "  selem = morphology.square(4)\n",
            "Vetorizando Imagens:   0%|          | 0/10224 [00:00<?, ?it/s]\n"
          ]
        },
        {
          "output_type": "stream",
          "name": "stdout",
          "text": [
            "Etapa correção gamma\n",
            "Aplicando filtros na imagem com gamma=0.75\n",
            "Aplicando filtros na imagem com gamma=2.0\n",
            "Aplicando filtros na imagem com gamma=1.0\n",
            "Etapa OTSU - 9 imagens\n",
            "Etapa Morfologia - 9 imagens\n",
            "Etapa Score - 18 imagens\n"
          ]
        },
        {
          "output_type": "execute_result",
          "data": {
            "text/plain": [
              "    gamma      filter  morf_applied  score_jaccard\n",
              "14   2.00    min quad          True       0.775064\n",
              "5    2.00    min quad         False       0.775064\n",
              "17   1.00    min quad          True       0.734136\n",
              "8    1.00    min quad         False       0.734136\n",
              "3    2.00    original         False       0.732306\n",
              "12   2.00    original          True       0.732306\n",
              "11   0.75    min quad          True       0.690858\n",
              "2    0.75    min quad         False       0.690858\n",
              "16   1.00  equalizada          True       0.688224\n",
              "1    0.75  equalizada         False       0.688224\n",
              "7    1.00  equalizada         False       0.688224\n",
              "10   0.75  equalizada          True       0.688224\n",
              "13   2.00  equalizada          True       0.679378\n",
              "4    2.00  equalizada         False       0.679378\n",
              "15   1.00    original          True       0.679378\n",
              "6    1.00    original         False       0.679378\n",
              "0    0.75    original         False       0.608867\n",
              "9    0.75    original          True       0.608867"
            ],
            "text/html": [
              "\n",
              "  <div id=\"df-a042231c-df73-4b0d-89c4-fee0fbc58154\" class=\"colab-df-container\">\n",
              "    <div>\n",
              "<style scoped>\n",
              "    .dataframe tbody tr th:only-of-type {\n",
              "        vertical-align: middle;\n",
              "    }\n",
              "\n",
              "    .dataframe tbody tr th {\n",
              "        vertical-align: top;\n",
              "    }\n",
              "\n",
              "    .dataframe thead th {\n",
              "        text-align: right;\n",
              "    }\n",
              "</style>\n",
              "<table border=\"1\" class=\"dataframe\">\n",
              "  <thead>\n",
              "    <tr style=\"text-align: right;\">\n",
              "      <th></th>\n",
              "      <th>gamma</th>\n",
              "      <th>filter</th>\n",
              "      <th>morf_applied</th>\n",
              "      <th>score_jaccard</th>\n",
              "    </tr>\n",
              "  </thead>\n",
              "  <tbody>\n",
              "    <tr>\n",
              "      <th>14</th>\n",
              "      <td>2.00</td>\n",
              "      <td>min quad</td>\n",
              "      <td>True</td>\n",
              "      <td>0.775064</td>\n",
              "    </tr>\n",
              "    <tr>\n",
              "      <th>5</th>\n",
              "      <td>2.00</td>\n",
              "      <td>min quad</td>\n",
              "      <td>False</td>\n",
              "      <td>0.775064</td>\n",
              "    </tr>\n",
              "    <tr>\n",
              "      <th>17</th>\n",
              "      <td>1.00</td>\n",
              "      <td>min quad</td>\n",
              "      <td>True</td>\n",
              "      <td>0.734136</td>\n",
              "    </tr>\n",
              "    <tr>\n",
              "      <th>8</th>\n",
              "      <td>1.00</td>\n",
              "      <td>min quad</td>\n",
              "      <td>False</td>\n",
              "      <td>0.734136</td>\n",
              "    </tr>\n",
              "    <tr>\n",
              "      <th>3</th>\n",
              "      <td>2.00</td>\n",
              "      <td>original</td>\n",
              "      <td>False</td>\n",
              "      <td>0.732306</td>\n",
              "    </tr>\n",
              "    <tr>\n",
              "      <th>12</th>\n",
              "      <td>2.00</td>\n",
              "      <td>original</td>\n",
              "      <td>True</td>\n",
              "      <td>0.732306</td>\n",
              "    </tr>\n",
              "    <tr>\n",
              "      <th>11</th>\n",
              "      <td>0.75</td>\n",
              "      <td>min quad</td>\n",
              "      <td>True</td>\n",
              "      <td>0.690858</td>\n",
              "    </tr>\n",
              "    <tr>\n",
              "      <th>2</th>\n",
              "      <td>0.75</td>\n",
              "      <td>min quad</td>\n",
              "      <td>False</td>\n",
              "      <td>0.690858</td>\n",
              "    </tr>\n",
              "    <tr>\n",
              "      <th>16</th>\n",
              "      <td>1.00</td>\n",
              "      <td>equalizada</td>\n",
              "      <td>True</td>\n",
              "      <td>0.688224</td>\n",
              "    </tr>\n",
              "    <tr>\n",
              "      <th>1</th>\n",
              "      <td>0.75</td>\n",
              "      <td>equalizada</td>\n",
              "      <td>False</td>\n",
              "      <td>0.688224</td>\n",
              "    </tr>\n",
              "    <tr>\n",
              "      <th>7</th>\n",
              "      <td>1.00</td>\n",
              "      <td>equalizada</td>\n",
              "      <td>False</td>\n",
              "      <td>0.688224</td>\n",
              "    </tr>\n",
              "    <tr>\n",
              "      <th>10</th>\n",
              "      <td>0.75</td>\n",
              "      <td>equalizada</td>\n",
              "      <td>True</td>\n",
              "      <td>0.688224</td>\n",
              "    </tr>\n",
              "    <tr>\n",
              "      <th>13</th>\n",
              "      <td>2.00</td>\n",
              "      <td>equalizada</td>\n",
              "      <td>True</td>\n",
              "      <td>0.679378</td>\n",
              "    </tr>\n",
              "    <tr>\n",
              "      <th>4</th>\n",
              "      <td>2.00</td>\n",
              "      <td>equalizada</td>\n",
              "      <td>False</td>\n",
              "      <td>0.679378</td>\n",
              "    </tr>\n",
              "    <tr>\n",
              "      <th>15</th>\n",
              "      <td>1.00</td>\n",
              "      <td>original</td>\n",
              "      <td>True</td>\n",
              "      <td>0.679378</td>\n",
              "    </tr>\n",
              "    <tr>\n",
              "      <th>6</th>\n",
              "      <td>1.00</td>\n",
              "      <td>original</td>\n",
              "      <td>False</td>\n",
              "      <td>0.679378</td>\n",
              "    </tr>\n",
              "    <tr>\n",
              "      <th>0</th>\n",
              "      <td>0.75</td>\n",
              "      <td>original</td>\n",
              "      <td>False</td>\n",
              "      <td>0.608867</td>\n",
              "    </tr>\n",
              "    <tr>\n",
              "      <th>9</th>\n",
              "      <td>0.75</td>\n",
              "      <td>original</td>\n",
              "      <td>True</td>\n",
              "      <td>0.608867</td>\n",
              "    </tr>\n",
              "  </tbody>\n",
              "</table>\n",
              "</div>\n",
              "    <div class=\"colab-df-buttons\">\n",
              "\n",
              "  <div class=\"colab-df-container\">\n",
              "    <button class=\"colab-df-convert\" onclick=\"convertToInteractive('df-a042231c-df73-4b0d-89c4-fee0fbc58154')\"\n",
              "            title=\"Convert this dataframe to an interactive table.\"\n",
              "            style=\"display:none;\">\n",
              "\n",
              "  <svg xmlns=\"http://www.w3.org/2000/svg\" height=\"24px\" viewBox=\"0 -960 960 960\">\n",
              "    <path d=\"M120-120v-720h720v720H120Zm60-500h600v-160H180v160Zm220 220h160v-160H400v160Zm0 220h160v-160H400v160ZM180-400h160v-160H180v160Zm440 0h160v-160H620v160ZM180-180h160v-160H180v160Zm440 0h160v-160H620v160Z\"/>\n",
              "  </svg>\n",
              "    </button>\n",
              "\n",
              "  <style>\n",
              "    .colab-df-container {\n",
              "      display:flex;\n",
              "      gap: 12px;\n",
              "    }\n",
              "\n",
              "    .colab-df-convert {\n",
              "      background-color: #E8F0FE;\n",
              "      border: none;\n",
              "      border-radius: 50%;\n",
              "      cursor: pointer;\n",
              "      display: none;\n",
              "      fill: #1967D2;\n",
              "      height: 32px;\n",
              "      padding: 0 0 0 0;\n",
              "      width: 32px;\n",
              "    }\n",
              "\n",
              "    .colab-df-convert:hover {\n",
              "      background-color: #E2EBFA;\n",
              "      box-shadow: 0px 1px 2px rgba(60, 64, 67, 0.3), 0px 1px 3px 1px rgba(60, 64, 67, 0.15);\n",
              "      fill: #174EA6;\n",
              "    }\n",
              "\n",
              "    .colab-df-buttons div {\n",
              "      margin-bottom: 4px;\n",
              "    }\n",
              "\n",
              "    [theme=dark] .colab-df-convert {\n",
              "      background-color: #3B4455;\n",
              "      fill: #D2E3FC;\n",
              "    }\n",
              "\n",
              "    [theme=dark] .colab-df-convert:hover {\n",
              "      background-color: #434B5C;\n",
              "      box-shadow: 0px 1px 3px 1px rgba(0, 0, 0, 0.15);\n",
              "      filter: drop-shadow(0px 1px 2px rgba(0, 0, 0, 0.3));\n",
              "      fill: #FFFFFF;\n",
              "    }\n",
              "  </style>\n",
              "\n",
              "    <script>\n",
              "      const buttonEl =\n",
              "        document.querySelector('#df-a042231c-df73-4b0d-89c4-fee0fbc58154 button.colab-df-convert');\n",
              "      buttonEl.style.display =\n",
              "        google.colab.kernel.accessAllowed ? 'block' : 'none';\n",
              "\n",
              "      async function convertToInteractive(key) {\n",
              "        const element = document.querySelector('#df-a042231c-df73-4b0d-89c4-fee0fbc58154');\n",
              "        const dataTable =\n",
              "          await google.colab.kernel.invokeFunction('convertToInteractive',\n",
              "                                                    [key], {});\n",
              "        if (!dataTable) return;\n",
              "\n",
              "        const docLinkHtml = 'Like what you see? Visit the ' +\n",
              "          '<a target=\"_blank\" href=https://colab.research.google.com/notebooks/data_table.ipynb>data table notebook</a>'\n",
              "          + ' to learn more about interactive tables.';\n",
              "        element.innerHTML = '';\n",
              "        dataTable['output_type'] = 'display_data';\n",
              "        await google.colab.output.renderOutput(dataTable, element);\n",
              "        const docLink = document.createElement('div');\n",
              "        docLink.innerHTML = docLinkHtml;\n",
              "        element.appendChild(docLink);\n",
              "      }\n",
              "    </script>\n",
              "  </div>\n",
              "\n",
              "\n",
              "    <div id=\"df-286bf1c7-58a9-4b29-a3cd-a79eaccaba05\">\n",
              "      <button class=\"colab-df-quickchart\" onclick=\"quickchart('df-286bf1c7-58a9-4b29-a3cd-a79eaccaba05')\"\n",
              "                title=\"Suggest charts\"\n",
              "                style=\"display:none;\">\n",
              "\n",
              "<svg xmlns=\"http://www.w3.org/2000/svg\" height=\"24px\"viewBox=\"0 0 24 24\"\n",
              "     width=\"24px\">\n",
              "    <g>\n",
              "        <path d=\"M19 3H5c-1.1 0-2 .9-2 2v14c0 1.1.9 2 2 2h14c1.1 0 2-.9 2-2V5c0-1.1-.9-2-2-2zM9 17H7v-7h2v7zm4 0h-2V7h2v10zm4 0h-2v-4h2v4z\"/>\n",
              "    </g>\n",
              "</svg>\n",
              "      </button>\n",
              "\n",
              "<style>\n",
              "  .colab-df-quickchart {\n",
              "      --bg-color: #E8F0FE;\n",
              "      --fill-color: #1967D2;\n",
              "      --hover-bg-color: #E2EBFA;\n",
              "      --hover-fill-color: #174EA6;\n",
              "      --disabled-fill-color: #AAA;\n",
              "      --disabled-bg-color: #DDD;\n",
              "  }\n",
              "\n",
              "  [theme=dark] .colab-df-quickchart {\n",
              "      --bg-color: #3B4455;\n",
              "      --fill-color: #D2E3FC;\n",
              "      --hover-bg-color: #434B5C;\n",
              "      --hover-fill-color: #FFFFFF;\n",
              "      --disabled-bg-color: #3B4455;\n",
              "      --disabled-fill-color: #666;\n",
              "  }\n",
              "\n",
              "  .colab-df-quickchart {\n",
              "    background-color: var(--bg-color);\n",
              "    border: none;\n",
              "    border-radius: 50%;\n",
              "    cursor: pointer;\n",
              "    display: none;\n",
              "    fill: var(--fill-color);\n",
              "    height: 32px;\n",
              "    padding: 0;\n",
              "    width: 32px;\n",
              "  }\n",
              "\n",
              "  .colab-df-quickchart:hover {\n",
              "    background-color: var(--hover-bg-color);\n",
              "    box-shadow: 0 1px 2px rgba(60, 64, 67, 0.3), 0 1px 3px 1px rgba(60, 64, 67, 0.15);\n",
              "    fill: var(--button-hover-fill-color);\n",
              "  }\n",
              "\n",
              "  .colab-df-quickchart-complete:disabled,\n",
              "  .colab-df-quickchart-complete:disabled:hover {\n",
              "    background-color: var(--disabled-bg-color);\n",
              "    fill: var(--disabled-fill-color);\n",
              "    box-shadow: none;\n",
              "  }\n",
              "\n",
              "  .colab-df-spinner {\n",
              "    border: 2px solid var(--fill-color);\n",
              "    border-color: transparent;\n",
              "    border-bottom-color: var(--fill-color);\n",
              "    animation:\n",
              "      spin 1s steps(1) infinite;\n",
              "  }\n",
              "\n",
              "  @keyframes spin {\n",
              "    0% {\n",
              "      border-color: transparent;\n",
              "      border-bottom-color: var(--fill-color);\n",
              "      border-left-color: var(--fill-color);\n",
              "    }\n",
              "    20% {\n",
              "      border-color: transparent;\n",
              "      border-left-color: var(--fill-color);\n",
              "      border-top-color: var(--fill-color);\n",
              "    }\n",
              "    30% {\n",
              "      border-color: transparent;\n",
              "      border-left-color: var(--fill-color);\n",
              "      border-top-color: var(--fill-color);\n",
              "      border-right-color: var(--fill-color);\n",
              "    }\n",
              "    40% {\n",
              "      border-color: transparent;\n",
              "      border-right-color: var(--fill-color);\n",
              "      border-top-color: var(--fill-color);\n",
              "    }\n",
              "    60% {\n",
              "      border-color: transparent;\n",
              "      border-right-color: var(--fill-color);\n",
              "    }\n",
              "    80% {\n",
              "      border-color: transparent;\n",
              "      border-right-color: var(--fill-color);\n",
              "      border-bottom-color: var(--fill-color);\n",
              "    }\n",
              "    90% {\n",
              "      border-color: transparent;\n",
              "      border-bottom-color: var(--fill-color);\n",
              "    }\n",
              "  }\n",
              "</style>\n",
              "\n",
              "      <script>\n",
              "        async function quickchart(key) {\n",
              "          const quickchartButtonEl =\n",
              "            document.querySelector('#' + key + ' button');\n",
              "          quickchartButtonEl.disabled = true;  // To prevent multiple clicks.\n",
              "          quickchartButtonEl.classList.add('colab-df-spinner');\n",
              "          try {\n",
              "            const charts = await google.colab.kernel.invokeFunction(\n",
              "                'suggestCharts', [key], {});\n",
              "          } catch (error) {\n",
              "            console.error('Error during call to suggestCharts:', error);\n",
              "          }\n",
              "          quickchartButtonEl.classList.remove('colab-df-spinner');\n",
              "          quickchartButtonEl.classList.add('colab-df-quickchart-complete');\n",
              "        }\n",
              "        (() => {\n",
              "          let quickchartButtonEl =\n",
              "            document.querySelector('#df-286bf1c7-58a9-4b29-a3cd-a79eaccaba05 button');\n",
              "          quickchartButtonEl.style.display =\n",
              "            google.colab.kernel.accessAllowed ? 'block' : 'none';\n",
              "        })();\n",
              "      </script>\n",
              "    </div>\n",
              "\n",
              "    </div>\n",
              "  </div>\n"
            ],
            "application/vnd.google.colaboratory.intrinsic+json": {
              "type": "dataframe",
              "variable_name": "df_img1",
              "summary": "{\n  \"name\": \"df_img1\",\n  \"rows\": 18,\n  \"fields\": [\n    {\n      \"column\": \"gamma\",\n      \"properties\": {\n        \"dtype\": \"number\",\n        \"std\": 0.5557189302262113,\n        \"min\": 0.75,\n        \"max\": 2.0,\n        \"num_unique_values\": 3,\n        \"samples\": [\n          2.0,\n          1.0,\n          0.75\n        ],\n        \"semantic_type\": \"\",\n        \"description\": \"\"\n      }\n    },\n    {\n      \"column\": \"filter\",\n      \"properties\": {\n        \"dtype\": \"category\",\n        \"num_unique_values\": 3,\n        \"samples\": [\n          \"min quad\",\n          \"original\",\n          \"equalizada\"\n        ],\n        \"semantic_type\": \"\",\n        \"description\": \"\"\n      }\n    },\n    {\n      \"column\": \"morf_applied\",\n      \"properties\": {\n        \"dtype\": \"boolean\",\n        \"num_unique_values\": 2,\n        \"samples\": [\n          false,\n          true\n        ],\n        \"semantic_type\": \"\",\n        \"description\": \"\"\n      }\n    },\n    {\n      \"column\": \"score_jaccard\",\n      \"properties\": {\n        \"dtype\": \"number\",\n        \"std\": 0.045112220818053266,\n        \"min\": 0.6088674275680421,\n        \"max\": 0.7750637213254036,\n        \"num_unique_values\": 7,\n        \"samples\": [\n          0.7750637213254036,\n          0.7341363734136374\n        ],\n        \"semantic_type\": \"\",\n        \"description\": \"\"\n      }\n    }\n  ]\n}"
            }
          },
          "metadata": {},
          "execution_count": 25
        }
      ]
    },
    {
      "cell_type": "code",
      "source": [
        "import matplotlib.pyplot as plt\n",
        "import numpy as np\n",
        "\n",
        "def show_images(img_list, titles=None, cmap='gray'):\n",
        "    n = len(img_list)\n",
        "    cols = min(4, n)  # no máximo 5 colunas\n",
        "    rows = (n + cols - 1) // cols\n",
        "\n",
        "    fig, axes = plt.subplots(rows, cols, figsize=(3 * cols, 3 * rows))\n",
        "\n",
        "    # Garantir que 'axes' seja sempre 2D array-like\n",
        "    axes = np.array(axes).reshape(-1)\n",
        "\n",
        "    for i in range(n):\n",
        "        ax = axes[i]\n",
        "        img,desc = img_list[i]\n",
        "        ax.set_title(desc)\n",
        "        ax.imshow(img, cmap=cmap)\n",
        "        if titles:\n",
        "            ax.set_title(titles[i])\n",
        "        ax.axis('off')\n",
        "\n",
        "    # Esconder os eixos extras, se houver\n",
        "    for j in range(n, len(axes)):\n",
        "        axes[j].axis('off')\n",
        "\n",
        "    plt.tight_layout()\n",
        "    plt.show()\n",
        "\n",
        "\n",
        "r1 = resultados_primeira_imagem[0]\n",
        "show_images(r1.get_imgs())\n",
        "print(r1)"
      ],
      "metadata": {
        "colab": {
          "base_uri": "https://localhost:8080/",
          "height": 458
        },
        "id": "Dnq-J4Whb1ZE",
        "outputId": "bf2a3b5a-b9ac-455a-e6e0-ac00cb34cc6f"
      },
      "execution_count": 26,
      "outputs": [
        {
          "output_type": "display_data",
          "data": {
            "text/plain": [
              "<Figure size 1200x600 with 8 Axes>"
            ],
            "image/png": "[encoded data removed]"
          },
          "metadata": {}
        },
        {
          "output_type": "stream",
          "name": "stdout",
          "text": [
            "\n",
            "    Descricoes: ['original', 'cinza', 'gamma', 'filtro', 'otsu', 'morf', 'morf']\n",
            "    Gamma: 0.75\n",
            "    Filter: original\n",
            "    IsMorf: False\n",
            "    \n"
          ]
        }
      ]
    },
    {
      "cell_type": "code",
      "source": [
        "## Fazendo com todo o dataset\n",
        "resultados = []\n",
        "selem = morphology.square(4)\n",
        "for i,(source_data, target_data) in enumerate(tqdm(dataset, desc=\"Vetorizando Imagens\")):\n",
        "  img_results = pipeline(source_data,target_data,selem)\n",
        "  resultados.extend(img_results)\n",
        "df = IMGs2Dataframe(resultados)"
      ],
      "metadata": {
        "colab": {
          "base_uri": "https://localhost:8080/"
        },
        "id": "6nQ_K-3rVzs3",
        "outputId": "bff3cdb2-1f73-4d8f-be77-98d5fd437287"
      },
      "execution_count": null,
      "outputs": [
        {
          "output_type": "stream",
          "name": "stderr",
          "text": [
            "/tmp/ipython-input-15-616947673.py:3: FutureWarning: `square` is deprecated since version 0.25 and will be removed in version 0.27. Use `skimage.morphology.footprint_rectangle` instead.\n",
            "  selem = morphology.square(4)\n",
            "Vetorizando Imagens:  94%|█████████▍| 9597/10224 [17:41<56:51,  5.44s/it]  "
          ]
        }
      ]
    },
    {
      "cell_type": "code",
      "source": [],
      "metadata": {
        "id": "thhrhYkc-X1I"
      },
      "execution_count": null,
      "outputs": []
    }
  ],
  "metadata": {
    "kernelspec": {
      "display_name": "env",
      "language": "python",
      "name": "python3"
    },
    "language_info": {
      "codemirror_mode": {
        "name": "ipython",
        "version": 3
      },
      "file_extension": ".py",
      "mimetype": "text/x-python",
      "name": "python",
      "nbconvert_exporter": "python",
      "pygments_lexer": "ipython3",
      "version": "3.12.3"
    },
    "colab": {
      "provenance": [],
      "collapsed_sections": [
        "_CESOxawMEhH",
        "FFlh65ZUQmO4"
      ]
    }
  },
  "nbformat": 4,
  "nbformat_minor": 0
}