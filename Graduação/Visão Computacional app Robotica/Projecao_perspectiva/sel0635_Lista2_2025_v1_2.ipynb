{
 "cells": [
  {
   "cell_type": "markdown",
   "metadata": {
    "id": "9mHB0QSGlTkn"
   },
   "source": [
    "# SEL635/SEL5724 - Visão Computacional Aplicada a Robótica\n",
    "\n"
   ]
  },
  {
   "cell_type": "markdown",
   "metadata": {
    "id": "xHM4wwoXnANN"
   },
   "source": [
    "**Aluno:** Luiza Rodrigues Cardoso\n",
    "\n",
    "**NUSP:** 14593332\n",
    "\n",
    "Versão do documento: 1.2"
   ]
  },
  {
   "cell_type": "markdown",
   "metadata": {
    "id": "tvWq2vEzBb2D"
   },
   "source": [
    "# Lista 2 - Transformação de Coordenadas\n"
   ]
  },
  {
   "cell_type": "markdown",
   "metadata": {
    "id": "57GO57fhHPEi"
   },
   "source": [
    "## Preparação do ambiente e definição de funções de exercícios anteriores"
   ]
  },
  {
   "cell_type": "code",
   "execution_count": 1,
   "metadata": {
    "id": "ju_OgoU2chYd"
   },
   "outputs": [],
   "source": [
    "# Importar as bibliotecas que serão utilizadas\n",
    "import numpy as np\n",
    "import matplotlib.pyplot as plt\n",
    "import math\n"
   ]
  },
  {
   "cell_type": "markdown",
   "metadata": {
    "id": "_rhi-X9yHYLx"
   },
   "source": [
    "Defina a seguir as funções implementadas em exercícios anteriores que serão utilizadas nessa Tarefa:"
   ]
  },
  {
   "cell_type": "code",
   "execution_count": 14,
   "metadata": {
    "id": "Zl9a33blHgaB"
   },
   "outputs": [],
   "source": [
    "def proj_perspectiva(Pc,f):\n",
    "  (M,N) = np.shape(Pc) # recupera o tamanho da matriz (N linhas, M colunas)\n",
    "  if(M!=3):\n",
    "    print('Aviso: a matriz Pc usada como entrada não possui três linhas!')\n",
    "\n",
    "  pc = np.zeros((3,N))  # Inicializa o vetor pc de dimensão 3xN com zeros\n",
    "  \n",
    "  # Encontra a projeção perspectiva dos pontos no plano da imagem em [mm]:\n",
    "  ######\n",
    "  # Coloque aqui o seu código para calcular a matriz pc\n",
    "  #Obtendo as coordenadas do sistema em relação ao mundo\n",
    "  Xc = Pc[0,:]\n",
    "  Yc = Pc[1,:]\n",
    "  Zc = Pc[2,:]\n",
    "\n",
    " \n",
    "\n",
    "  #aplicando o fator de correção q\n",
    "  x = f*Xc/Zc\n",
    "  y = f*Yc/Zc\n",
    "      \n",
    "  #matriz no sistema de coordenas da camera\n",
    "  pc[0,:] = x\n",
    "  pc[1,:] = y\n",
    "  pc[2,:] = 1 #coordenada homogenea\n",
    "\n",
    "  ######\n",
    "\n",
    "  return pc\n",
    "\n",
    "\n",
    "def camera_to_image(pc,sx,sy,ox,oy):\n",
    "  (M,N) = np.shape(pc) # recupera o tamanho da matriz (N linhas, M colunas)\n",
    "  if(M!=3):\n",
    "    print('Aviso: a matriz pc usada como entrada não possui três linhas!')\n",
    "\n",
    "  p_im = np.zeros((2,N))  # Inicializa o vetor p de dimensão 2xN com zeros\n",
    "\n",
    "  # Converte as coordenadas dos pontos pc do sistema da câmera em [mm] para o sistema de coordenadas da imagem em [px]:\n",
    "  #obtendo as coordenadas em relação ao sistema da camera\n",
    "  x_im = pc[0,:]\n",
    "  y_im = pc[1,:]\n",
    "  \n",
    "  #aplicando uma correção em relação à origem dos sistemas e passando da medida real(mm) para medidas discretas(pixel)\n",
    "  x = ox - (x_im/sx)    \n",
    "  y = oy - (y_im/sy)\n",
    "      \n",
    "  #matriz de coordenadas no sistema da imagem(x,y) em pixels\n",
    "  p_im[0,:] = x\n",
    "  p_im[1,:] = y\n",
    "    \n",
    "  \n",
    "  ######\n",
    "\n",
    "  return p_im\n"
   ]
  },
  {
   "cell_type": "markdown",
   "metadata": {
    "id": "t_pQ_HmjWLEe"
   },
   "source": [
    "## Padrão de Calibração\n",
    "\n",
    "A função `Pw = calibration_pattern(n,d)` definida a seguir retorna uma matriz de pontos `Pw` de dimensão $3 \\times (3n+7)$, em que cada coluna da matriz representa a coordenada em $[mm]$ de um ponto do padrão de calibração em um sistema de coordenadas local fixo neste padrão de calibração $\\{P\\}$. O espaçamento entre os pontos é dado por $d$ em $[mm]$. O padrão de calibração é composto por $3n+7$ pontos distribuídos em 3 planos mutualmente ortogonais, na seguinte sequencia:\n",
    "\n",
    "* Os 7 primeiros pontos são os pontos extremos das três faces ortogonais e\n",
    "possuem as coordenadas na sequencia: $[0,0,0]^T$, $[n*d,0,0]^T$, $[0,n*d,0]^T$, $[0,0,n*d]^T$, $[n*d,n*d,0]^T$, $[n*d,0, n*d]^T$, $[0,n*d,n*d]^T$;\n",
    "* Os demais pontos seguem uma sequencia começando do ponto $[0,0,0]^T$, sendo que $P$ terá repetição de pontos ao longo dos eixos $x$, $y$ e $z$, onde os planos se intersectam.\n",
    "\n",
    "\n",
    "\n"
   ]
  },
  {
   "cell_type": "code",
   "execution_count": 3,
   "metadata": {
    "id": "E97M3pzAGGzq"
   },
   "outputs": [],
   "source": [
    "def calibration_pattern(n,d):\n",
    "    Pw = np.zeros((3,3*n*n+7))\n",
    "    Pw[:,0] = [0, 0, 0]\n",
    "    Pw[:,1] = [n*d, 0, 0]\n",
    "    Pw[:,2] = [0, n*d, 0]\n",
    "    Pw[:,3]=[0, 0, n*d];\n",
    "    Pw[:,4]=[n*d, n*d, 0];\n",
    "    Pw[:,5]=[n*d, 0, n*d];\n",
    "    Pw[:,6]=[0, n*d, n*d];\n",
    "\n",
    "    for i in range(n):\n",
    "        for j in range(n):\n",
    "            Pw[:,n*i+j+7]= [d*j, d*i, 0]\n",
    "            Pw[:,n*n + n*i+j+7]= [0, d*j, d*i];\n",
    "            Pw[:,2*n*n + n*i+j+7]= [d*i, 0, d*j];\n",
    "\n",
    "    return Pw"
   ]
  },
  {
   "cell_type": "markdown",
   "metadata": {
    "id": "Ik8BqPvzGHlw"
   },
   "source": [
    "## Imagens do Padrão de Calibração\n",
    "\n",
    "Considere que o sistema de coordenadas do mundo coincide com o sistema de coordenadas fixo no padrão de calibração, ou seja, $\\{W\\}=\\{P\\}$.\n",
    "\n",
    "Considere que duas câmeras idênticas foram colocadas no ambiente para observar um padrão de calibração com $n=10$ e $d=100$.\n",
    "\n",
    "As câmeras possuem os seguintes parâmetros intrínsecos:  distância focal $f=12mm$, $s_x=s_y=0.01$, $o_x=800$, $o_y=600$, para $s_x$ e $s_y$ dados em [mm/pixel], $o_x$ e $o_y$ dados em [pixel].\n",
    "\n",
    "Considere também que as câmeras fornecem imagens de tamanho $1600 \\times 1200$ pixels.\n",
    "\n",
    "\n",
    "As câmeras foram posicionadas no ambiente da seguinte forma:\n",
    "\n",
    "\n",
    "\n",
    "* **Camera 1**:  Considere que inicialmente o sistema de coordenada da primeira câmera $\\{C_1\\}$ coincide com o sistema de coordenada do mundo $\\{W\\}$. O sistema de coordenadas da câmera é primeiramente rotacionado de $20$ graus em relação ao seu eixo $z$, depois rotacionado de $-140$ graus em relação ao eixo $y$ do seu sistema atual, e então rotacionado de $25$ graus em relação a $x$ do seu sistema atual. Finalmente, a origem da câmera é posicionada na coordenada $[1600,1800,1700]^T$ dada em [mm] em relação ao sistema de coordenadas do mundo.\n",
    "\n",
    "* **Camera 2**: Considere que inicialmente o sistema de coordenada da segunda câmera $\\{C_2\\}$ coincide com o sistema de coordenada do mundo $\\{W\\}$. Então, o sistema de coordenadas da câmera é rotacionado de $5$ graus em relação ao seu eixo $x$, depois rotacionado de $-120$ graus em relação ao eixo $y$ do sistema de coordenadas do mundo, e então rotacionado de $35$ graus em relação ao eixo $z$ do sistema de coordenadas do mundo. Finalmente, a origem da câmera é colocada na coordenada $[1700,1500,1600]^T$ dada em [mm] em relação ao sistema de coordenadas do mundo.\n",
    "\n"
   ]
  },
  {
   "cell_type": "markdown",
   "metadata": {
    "id": "XVfV5rhaGviX"
   },
   "source": [
    "### Exercícios:\n",
    "\n",
    "1. Qual a sequencia de rotações utilizada para obter a rotação que representa a orientação de cada câmera em relação ao mundo, ou seja, $^wR_{c1}$ e $^wR_{c2}$? Quais os valores de $^wR_{c1}$ e $^wR_{c2}$?\n",
    "\n",
    "<responda aqui>\n",
    "\n",
    "\n",
    "\n"
   ]
  },
  {
   "cell_type": "code",
   "execution_count": null,
   "metadata": {
    "id": "APgUoaVz4IKk"
   },
   "outputs": [],
   "source": [
    "def Rx(theta):\n",
    "    theta = np.radians(theta)\n",
    "    R = np.array([[1, 0, 0], [0, np.cos(theta), -np.sin(theta)], [0, np.sin(theta), np.cos(theta)]])\n",
    "    return R\n",
    "def Ry(theta):\n",
    "    theta = np.radians(theta)\n",
    "    R = np.array([[np.cos(theta), 0, np.sin(theta)], [0, 1, 0], [-np.sin(theta), 0, np.cos(theta)]])\n",
    "    return R\n",
    "def Rz(theta):\n",
    "    theta = np.radians(theta)\n",
    "    R = np.array([[np.cos(theta), -np.sin(theta), 0], [np.sin(theta), np.cos(theta), 0], [0, 0, 1]])\n",
    "    return R\n",
    "def Homogenea(R,t):\n",
    "    t = t.reshape(-1, 1) #vetor de translação (formato de vetor coluna)\n",
    "    H = np.concatenate((R,t),axis=1) #concatena na horizontal a matriz de rotação e vetor de translação\n",
    "    temp_v = np.array([0,0,0,1]).reshape(1, -1) #ultima linha da matriz homogênia (formato de vetor linha)\n",
    "    H = np.concatenate((H,temp_v),axis=0) #concatena na vertical a ultima linha da matriz de homografia\n",
    "    return H"
   ]
  },
  {
   "cell_type": "code",
   "execution_count": null,
   "metadata": {
    "id": "NL5aLlYnEfTq"
   },
   "outputs": [
    {
     "name": "stdout",
     "output_type": "stream",
     "text": [
      "-2.443460952792061\n",
      "Rwc1 =\n",
      " [[-0.71984631 -0.56524657 -0.40288658]\n",
      " [-0.26200263  0.75873967 -0.59637969]\n",
      " [ 0.64278761 -0.32374437 -0.69427204]]\n",
      "-2.0943951023931953\n",
      "Rwc2 =\n",
      " [[-0.40957602 -0.63322265 -0.65671649]\n",
      " [-0.28678822  0.7727419  -0.56623536]\n",
      " [ 0.8660254  -0.04357787 -0.49809735]]\n"
     ]
    }
   ],
   "source": [
    "## Insira seu codigo aqui para calcular e mostrar a matriz de rotação da câmera 1 em relação ao sistema de coordenadas do mundo\n",
    "#todas rotação são em relação ao sistema de coordenadas da camera/eixos atuais\n",
    "r11 = Rz(20) #rotação de 20° em relação ao eixo z\n",
    "r12 = Ry(-140) #rotação de -140° em relação ao eixo y\n",
    "r13 = Rx(25) #rotação de 25° em relação ao eixo x\n",
    "\n",
    "#matriz geral de rotação\n",
    "Rwc1 = r11@r12@r13 \n",
    "print('Rwc1 =\\n',Rwc1)\n",
    "\n",
    "\n",
    "## Insira seu codigo aqui para calcular e mostrar a matriz de rotação da câmera 2 em relação ao sistema de coordenadas do mundo\n",
    "#rotações em relação ao eixo da camera e do mundo/ rotações mistas\n",
    "r21 = Rx(5) #rotação em relação ao eixo x, em relação a camera\n",
    "r22 = Ry(-120) #rotação em relação ao eixo y, em relação ao mundo\n",
    "r23 = Rz(35) #rotação em relação ao eixo z, em relação ao mundo\n",
    "\n",
    "#No enunciado diz que as rotações em Z e y ocorrem em relação ao mundo e a rotação em X em relação a camera\n",
    "#Assim, foi necessário aplicar as rotação relacionadas ao mundo antes dos eixos atuais\n",
    "Rwc2 = r23 @ r22 @r21 \n",
    "print('Rwc2 =\\n',Rwc2)\n",
    "\n"
   ]
  },
  {
   "cell_type": "markdown",
   "metadata": {
    "id": "rg7_zhbnIStW"
   },
   "source": [
    "Resultado esperado:\n",
    "```\n",
    "Rwc1 =\n",
    "[[-0.71984631 -0.56524657 -0.40288658]\n",
    " [-0.26200263  0.75873967 -0.59637969]\n",
    " [ 0.64278761 -0.32374437 -0.69427204]]\n",
    "Rwc2 =\n",
    "[[-0.40957602 -0.63322265 -0.65671649]\n",
    " [-0.28678822  0.7727419  -0.56623536]\n",
    " [ 0.8660254  -0.04357787 -0.49809735]]\n",
    " ```"
   ]
  },
  {
   "cell_type": "markdown",
   "metadata": {
    "id": "FjNvEP5yEfTq"
   },
   "source": [
    "2. Quais os valores da posição de cada câmera em relação ao mundo, ou seja, $^wT_{c1}$ e $^wT_{c2}$?"
   ]
  },
  {
   "cell_type": "code",
   "execution_count": null,
   "metadata": {
    "id": "gkvwK8TsJdRu"
   },
   "outputs": [],
   "source": [
    "## Insira seu codigo aqui para calcular e mostrar a posição da câmera 1 em relação ao sistema de coordenadas do mundo\n",
    "#Twc1 =\n",
    "\n",
    "\n",
    "## Insira seu codigo aqui para calcular e mostrar a posição da câmera 2 em relação ao sistema de coordenadas do mundo\n",
    "#Twc2 =\n",
    "\n",
    "\n",
    "\n"
   ]
  },
  {
   "cell_type": "markdown",
   "metadata": {
    "id": "ClkU9AF9H9Q0"
   },
   "source": [
    "\n",
    "3. Implemente uma funcao `Pc = world_to_camera(Pw,Rwc,Twc)` que converte as coordenadas de pontos descritas no sistema de coordenadas do mundo, ${^wP}$, para coordenadas no sistema de coordenadas da câmera, ${^cP}$. As entradas desta função são: uma matriz `Pw` de dimensão $3 \\times N$ cujas colunas representam as coordenadas 3D de $N$ pontos descritas no sistema $\\{W\\}$; a matriz de rotação `Rwc` que descreve a orientação do sistema $\\{C\\}$ em relação ao sistema da câmera $\\{W\\}$, o vetor de translação `Twc` que descreve a origem do sistema $\\{C\\}$ em relação ao sistema $\\{W\\}$.\n"
   ]
  },
  {
   "cell_type": "code",
   "execution_count": null,
   "metadata": {
    "id": "uaw2PJQbHwBw"
   },
   "outputs": [],
   "source": [
    "def world_to_camera(Pw,Rwc,Twc):\n",
    "    (M,N) = np.shape(Pw) # recupera o tamanho da matriz (M linhas, N colunas)\n",
    "\n",
    "    # Coloque seu codigo aqui\n",
    "\n",
    "\n",
    "\n",
    "\n",
    "    return Pc\n"
   ]
  },
  {
   "cell_type": "markdown",
   "metadata": {
    "id": "O_96NjUsIEcL"
   },
   "source": [
    "\n",
    "4. Implemente a função `p_im = world_to_image(Pw,Rwc,Twc,f,sx,sy,ox,oy)` que retorna as coordenadas em pixel na imagem da câmera  correpondentes a projeção perspectiva dos pontos ${^wP}$ descritos no sistema de coordenadas do mundo. Observação: Utilize as funções já implementadas `world_to_camera`, `perspective`, e `camera_to_image`.\n"
   ]
  },
  {
   "cell_type": "code",
   "execution_count": null,
   "metadata": {
    "id": "tHrz4CyUIIcK"
   },
   "outputs": [],
   "source": [
    "def world_to_image(Pw,Rwc,Twc,f,sx,sy,ox,oy):\n",
    "\n",
    "    # Coloque seu codigo aqui\n",
    "\n",
    "\n",
    "\n",
    "\n",
    "    return p_im\n"
   ]
  },
  {
   "cell_type": "markdown",
   "metadata": {
    "id": "eMb5G1HFYuhe"
   },
   "source": [
    "6. Teste as funções implementadas para gerar duas figuras que representam as imagens de um padrão de calibração, construído com `n=10` e `d=100`, obtidas pelas câmeras 1 e 2 definidas no início deste documento. Utilize a função `plot_image(p_im, size_x, size_y)` implementada a seguir para mostrar uma figura que representa a imagem dos pontos `p_im` fornecidos em pixel. Além de `p_im`, a função também possui como entrada o tamanho horizontal da imagem `size_x` e o tamanho vertical da imagem `size_y` em pixel. Observe que o gráfico possui origem no canto superior esquerdo, eixo x positivo ao longo da horizontal da esquerda para direita, e eixo y positivo ao longo da vertical do topo para baixo. (veja ao final deste documento exemplo da imagem que deve ser produzida)"
   ]
  },
  {
   "cell_type": "code",
   "execution_count": 5,
   "metadata": {
    "id": "_qR1JagvZic1"
   },
   "outputs": [],
   "source": [
    "def plot_image(p_im,size_x,size_y):\n",
    "    plt.figure()\n",
    "    plt.plot(p_im[0,4:],p_im[1,4:],'bo',mfc='none')\n",
    "    plt.plot(p_im[0,0],p_im[1,0],'ko',mfc='none')\n",
    "    plt.plot(p_im[0,1],p_im[1,1],'co',mfc='none')\n",
    "    plt.plot(p_im[0,2],p_im[1,2],'ro',mfc='none')\n",
    "    plt.plot(p_im[0,3],p_im[1,3],'go',mfc='none')\n",
    "    plt.axis([0, size_x, size_y, 0])"
   ]
  },
  {
   "cell_type": "code",
   "execution_count": null,
   "metadata": {
    "id": "UPcKMUx_EfTs"
   },
   "outputs": [],
   "source": [
    "# Código para gerar as imagens obtidas pelas câmeras\n",
    "\n",
    "Pw = calibration_pattern(n=10,d=100) # pontos do padrão de calibração\n",
    "\n",
    "# Coloque seu código aqui para gerar a imagem obtida pela câmera 1\n",
    "#p_im1 =\n",
    "plot_image(p_im1,size_x=1600,size_y=1200)\n",
    "print('p_im1 = ',p_im1[:,0:6])\n",
    "\n",
    "# Coloque seu código aqui para gerar a imagem obtida pela câmera 2\n",
    "#p_im2 =\n",
    "plot_image(p_im2,size_x=1600,size_y=1200)\n",
    "print('p_im2 = ',p_im2[:,0:6])\n"
   ]
  },
  {
   "cell_type": "markdown",
   "metadata": {
    "id": "Gvv1QBdmEzz6"
   },
   "source": [
    "### Imagens esperadas do Padrão de Calibração\n",
    "\n",
    "Posição na imagem dos 6 primeiros do padrão de calibração:\n",
    "\n",
    "```\n",
    "p_im1 =  [[ 580.30924478  890.99327337  659.97269703  161.147924   1085.12209782\n",
    "   497.82829469]\n",
    " [ 563.13981745  828.99888456  158.06751211  727.78910845  421.4805493\n",
    "  1132.95125045]]\n",
    "p_im2 =  [[ 912.57533459 1181.05516852 1098.27603088  478.43941228 1544.68802215\n",
    "   652.77539125]\n",
    " [ 605.60739093  968.16479952  184.88407634  629.93210835  501.32882709\n",
    "  1114.73700712]\n",
    "```\n",
    "\n",
    "A Figura 1 e 2 mostram as imagens do padrão de calibração esperadas para a câmera 1 e 2 respectivamente.\n",
    "\n",
    "\n",
    "<div>\n",
    "<img src='https://drive.google.com/uc?id=15N_OAMHxABu1OYHaJ8puM-NosodEKoKw' width=\"500\"/>\n",
    "</div>\n",
    "Figura 1 - Imagem do padrão de calibração obtida pela câmera 1\n",
    "\n",
    "\n",
    "<div>\n",
    "<img src='https://drive.google.com/uc?id=1N_bHV5sYUH2W3VXgDLSSOs0ILKOqcqz2' width=\"500\"/>\n",
    "</div>\n",
    "Figura 2 - Imagem do padrão de calibração obtida pela câmera 2\n",
    "\n"
   ]
  }
 ],
 "metadata": {
  "colab": {
   "provenance": [
    {
     "file_id": "1LcdbGNlRtzYhjuaFNg2nwBmSvEBXWdQs",
     "timestamp": 1756392966789
    }
   ]
  },
  "kernelspec": {
   "display_name": "venv_u",
   "language": "python",
   "name": "python3"
  },
  "language_info": {
   "codemirror_mode": {
    "name": "ipython",
    "version": 3
   },
   "file_extension": ".py",
   "mimetype": "text/x-python",
   "name": "python",
   "nbconvert_exporter": "python",
   "pygments_lexer": "ipython3",
   "version": "3.12.3"
  }
 },
 "nbformat": 4,
 "nbformat_minor": 0
}
