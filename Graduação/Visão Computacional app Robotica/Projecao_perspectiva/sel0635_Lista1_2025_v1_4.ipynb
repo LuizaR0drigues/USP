{
 "cells": [
  {
   "cell_type": "markdown",
   "metadata": {
    "id": "9mHB0QSGlTkn"
   },
   "source": [
    "#SEL635/SEL5724 - Visão Computacional Aplicada a Robótica\n",
    "\n"
   ]
  },
  {
   "cell_type": "markdown",
   "metadata": {
    "id": "xHM4wwoXnANN"
   },
   "source": [
    "**Aluno:** Luiza Rodrigues Cardoso\n",
    "\n",
    "**NUSP:** 14593332\n",
    "\n",
    "Versão do documento: 1.4"
   ]
  },
  {
   "cell_type": "markdown",
   "metadata": {
    "id": "tvWq2vEzBb2D"
   },
   "source": [
    " # Lista 1 - Projeção Perspectiva\n",
    "\n",
    "Um dos propósitos deste exercício é verificar algumas propriedades do modelo de projeção perspectiva, e comparar com o modelo de projeção perspectiva fraca."
   ]
  },
  {
   "cell_type": "markdown",
   "metadata": {
    "id": "t_pQ_HmjWLEe"
   },
   "source": [
    "## Parte A: Projeção perspectiva\n",
    "\n",
    "Considere uma câmera sem distorções radiais, com plano de projeção perpendicular ao seu eixo ótico ($\\alpha=0$), distância focal $f$ em $[mm]$, dimensão horizontal e vertical de cada pixel, $s_x$ e $s_y$, dadas em $[mm/px]$, projeção do cento óptico na imagem na posição $(o_x,o_y)$ dada em $[px]$.\n",
    "\n",
    "Considere também, conforme indicado na Figura 1, que a origem $(0,0)$ na imagem é o canto superior esquerdo, que o eixo $\\hat x_{im}$ é o eixo horizontal, e que o eixo $\\hat y_{im}$ é o eixo vertical. Também considere que o eixo da câmera $\\hat X_c$ está alinhado com a horizontal do plano de projeção, e o eixo da câmera $\\hat Y_c$ está alinhado com a vertical do plano de projeção, conforme também indicado na Figura 1.\n",
    "\n",
    "Utilizando o modelo de projeção perspectiva, complete o código das funções `p_c = proj_perspectiva(Pc,f)` e `p_im = camera_to_image(pc, sx, sy, ox, oy)`.\n",
    "\n",
    "Os parâmetros de entrada e saída das funções são:\n",
    "*  `P_c` é uma matriz de tamanho $3 \\times N$, onde cada coluna desta matriz representa a coordenada de um ponto no ambiente, dada em $[mm]$, descrita no sistema de coordenadas da câmera;\n",
    "*   `p_c` é uma matriz de dimensão $3 \\times N$, onde cada coluna representa um ponto no sistema de coordenadas da câmera, em $[mm]$ que corresponde a projeção perspectiva de um ponto do ambiente $P_c$ no plano da imagem;\n",
    "*   `p_im` é uma matriz de dimensão $2 \\times N$, em que cada coluna representa coordenada em $[px]$ na imagem correpondente ao ponto $p_c$ no sistema de coordenadas da câmera;\n",
    "*   Os parâmetros intrínsecos da câmera são: `f`, `sx`, `sy`, `ox`, `oy`;\n",
    "\n",
    "\n",
    "<div>\n",
    "<img src=\"https://drive.google.com/uc?id=1GjlRR1Ng3KBpZLvHUN0w3pUFRDmoRFCL\" width=\"500\"/>\n",
    "</div>\n",
    "Figura 1 - Sistemas de coordenadas da câmera e da imagem\n",
    "\n",
    "\n",
    "\n"
   ]
  },
  {
   "cell_type": "code",
   "execution_count": 4,
   "metadata": {
    "id": "ju_OgoU2chYd"
   },
   "outputs": [],
   "source": [
    "# Importar as bibliotecas que serão utilizadas\n",
    "import numpy as np\n",
    "import matplotlib.pyplot as plt\n"
   ]
  },
  {
   "cell_type": "markdown",
   "metadata": {
    "id": "9v1USQv8B2x-"
   },
   "source": [
    "### A.1 Complete o código a seguir que realiza a projeção perspectiva"
   ]
  },
  {
   "cell_type": "code",
   "execution_count": null,
   "metadata": {
    "id": "eXssQyFwcIa7"
   },
   "outputs": [],
   "source": [
    "def proj_perspectiva(Pc,f):\n",
    "  (M,N) = np.shape(Pc) # recupera o tamanho da matriz (N linhas, M colunas)\n",
    "  if(M!=3):\n",
    "    print('Aviso: a matriz Pc usada como entrada não possui três linhas!')\n",
    "\n",
    "  pc = np.zeros((3,N))  # Inicializa o vetor pc de dimensão 3xN com zeros\n",
    "  \n",
    "  # Encontra a projeção perspectiva dos pontos no plano da imagem em [mm]:\n",
    "  ######\n",
    "  # Coloque aqui o seu código para calcular a matriz pc\n",
    "  for i in range(M):\n",
    "    for j in range(N):\n",
    "      Xc = Pc[0,:]\n",
    "      Yc = Pc[1,:]\n",
    "      Zc = Pc[2,:]\n",
    "\n",
    "      x = f*Xc/Zc\n",
    "      y = f*Yc/Zc\n",
    "      \n",
    "\n",
    "      pc[0,:] = x\n",
    "      pc[1,:] = y\n",
    "      pc[2,:] = 1 #coordenada homogenea\n",
    "\n",
    "  print(pc)\n",
    "  \n",
    "\n",
    "  ######\n",
    "\n",
    "  return pc\n",
    "\n",
    "\n",
    "def camera_to_image(pc,sx,sy,ox,oy):\n",
    "  (M,N) = np.shape(pc) # recupera o tamanho da matriz (N linhas, M colunas)\n",
    "  if(M!=3):\n",
    "    print('Aviso: a matriz pc usada como entrada não possui três linhas!')\n",
    "\n",
    "  p_im = np.zeros((2,N))  # Inicializa o vetor p de dimensão 2xN com zeros\n",
    "\n",
    "  # Converte as coordenadas dos pontos pc do sistema da câmera em [mm] para o sistema de coordenadas da imagem em [px]:\n",
    "  ######\n",
    "  # Coloque aqui o seu código para calcular a matriz p_im #####\n",
    "  \n",
    "\n",
    "  ######\n",
    "\n",
    "  return p_im\n"
   ]
  },
  {
   "cell_type": "code",
   "execution_count": 23,
   "metadata": {},
   "outputs": [
    {
     "name": "stdout",
     "output_type": "stream",
     "text": [
      "[[1.         0.         0.5       ]\n",
      " [2.         0.66666667 1.        ]\n",
      " [1.         1.         1.        ]]\n"
     ]
    }
   ],
   "source": [
    "a = np.array([[1,0,1],\n",
    "     [2,1,2],\n",
    "     [2,3,4]])\n",
    "x = proj_perspectiva(a, 2)"
   ]
  },
  {
   "cell_type": "markdown",
   "metadata": {
    "id": "7XbzfpGVnIkb"
   },
   "source": [
    "\n",
    "##Parte B: Aplicação da Projeção perspectiva\n",
    "\n",
    "Considere que uma câmera posicionada conforme mostra a Figura 2. O eixo óptico da câmera $\\hat Z_c$ é perpendicular à superficie do cubo cujos vértices da face superior são: $P_1$, $P_2$, $P_3$, e $P_4$. Os vértices da face inferior são: $P_5$, $P_6$, $P_7$ e $P_8$. O eixo óptico está posicionado a uma distância $d$ ao longo de $X_w$ a partir do centro da face do cubo.\n",
    "\n",
    "\n",
    "<div>\n",
    "<img src=\"https://drive.google.com/uc?id=1Gb3OEGGL8PG-LV-_9iLsId_s0i6byRuz\" width=\"500\"/>\n",
    "</div>\n",
    "Figura 2 - Câmera observando os vértices de um cubo\n",
    "\n",
    "Considere um cubo com comprimento de aresta $2L$. As coordenadas dos vértices do cubo em relação à câmera são dadas em $[mm]$ por:\n",
    "\n",
    "\\begin{align}\n",
    "&^cP_1 = [-L; -L-d; Z_c] \\\\\n",
    "&^cP_2 = [L; -L-d; Z_c] \\\\\n",
    "&^cP_3 = [L; +L-d; Z_c] \\\\\n",
    "&^cP_4 = [-L; +L-d; Z_c] \\\\\n",
    "&^cP_5 = [-L; -L-d; Z_c+2L] \\\\\n",
    "&^cP_6 = [L; -L-d; Z_c+2L] \\\\\n",
    "&^cP_7 = [L; +L-d; Z_c+2L] \\\\\n",
    "&^cP_8 = [-L; +L-d; Z_c+2L]\n",
    "\\end{align}\n",
    "\n",
    "Também considere que os parâmetros da câmera são: $f=8~mm$, $s_x=s_y=0.02~mm/px$, $o_x=1000~px$, $o_y=1000~px$.\n",
    "\n",
    "A função `plot_imagem_cubo(Zc,d)` a seguir mostra a imagem dos vértices do cubo obtida pela câmera. A face superior do cubo é mostrada em azul, a face inferior é mostrada em vermelho, e os vértices laterais em magenta. Para valor de $L=1000$, $d =1500$ e $Z_c = 2000$, a função deve mostrar a seguinte mensagem:\n",
    "\n",
    "```\n",
    "Mostrando resultado para os parâmetros:\n",
    "L= 1000  Zc= 2000  d= 1500  f= 8  sx= 0.02  sy= 0.02  ox= 1000  oy= 1000\n",
    "\n",
    "Pc =\n",
    " [[-1000  1000  1000 -1000 -1000  1000  1000 -1000]\n",
    " [-2500 -2500  -500  -500 -2500 -2500  -500  -500]\n",
    " [ 2000  2000  2000  2000  4000  4000  4000  4000]]\n",
    "\n",
    "p_im =\n",
    " [[1200.  800.  800. 1200. 1100.  900.  900. 1100.]\n",
    " [1500. 1500. 1100. 1100. 1250. 1250. 1050. 1050.]]\n",
    "```\n",
    "\n"
   ]
  },
  {
   "cell_type": "code",
   "execution_count": 4,
   "metadata": {
    "id": "mEwymwk5lSI2"
   },
   "outputs": [
    {
     "name": "stdout",
     "output_type": "stream",
     "text": [
      "Mostrando resultado para os parâmetros:\n",
      "L= 1000  Zc= 2000  d= 1500  f= 8  sx= 0.02  sy= 0.02  ox= 1000  oy= 1000 \n",
      "\n",
      "Pc = \n",
      " [[-1000  1000  1000 -1000 -1000  1000  1000 -1000]\n",
      " [-2500 -2500  -500  -500 -2500 -2500  -500  -500]\n",
      " [ 2000  2000  2000  2000  4000  4000  4000  4000]] \n",
      "\n",
      "p_im = \n",
      " [[0. 0. 0. 0. 0. 0. 0. 0.]\n",
      " [0. 0. 0. 0. 0. 0. 0. 0.]] \n",
      "\n"
     ]
    },
    {
     "data": {
      "image/png": "[encoded data removed]",
      "text/plain": [
       "<Figure size 640x480 with 1 Axes>"
      ]
     },
     "metadata": {},
     "output_type": "display_data"
    }
   ],
   "source": [
    "def plot_imagem_cubo(f,sx,sy,ox,oy,L,Zc,d):\n",
    "\n",
    "  print('Mostrando resultado para os parâmetros:')\n",
    "  print('L=',L,' Zc=',Zc,' d=',d,' f=',f,' sx=',sx,' sy=',sy,' ox=',ox,' oy=',oy,'\\n')\n",
    "\n",
    "  # Definindo cada ponto como um vetor unidimensional usando a biblioteca numpy\n",
    "  P1 = np.array([-L, -L-d, Zc])\n",
    "  P2 = np.array([L, -L-d, Zc])\n",
    "  P3 = np.array([L, L-d, Zc])\n",
    "  P4 = np.array([-L, L-d, Zc])\n",
    "  P5 = np.array([-L, -L-d, Zc+2*L])\n",
    "  P6 = np.array([L, -L-d, Zc+2*L])\n",
    "  P7 = np.array([L, L-d, Zc+2*L])\n",
    "  P8 = np.array([-L, L-d, Zc+2*L])\n",
    "\n",
    "  Pc = np.column_stack((P1,P2,P3,P4,P5,P6,P7,P8))\n",
    "  print('Pc = \\n',Pc,'\\n')\n",
    "\n",
    "  # Observe que Pc são as coordenadas dos pontos 3D no sistema de coordenadas da câmera\n",
    "  # Faz a projeção perspectiva fraca dos pontos 3D obtendo as coordenadas em pixel dos pontos na imagem\n",
    "  pc = proj_perspectiva(Pc,f)\n",
    "  p_im = camera_to_image(pc,sx,sy,ox,oy)\n",
    "  print('p_im = \\n',p_im,'\\n')\n",
    "\n",
    "  # Rearranjando os dados para uma matriz onde cada coluna é um dos pontos\n",
    "  Pc_sup = np.column_stack((P1,P2,P3,P4,P1))  # P1 foi adicionado no final para que a última aresta possa ser plotada\n",
    "  # print('P_sup = \\n',Pc_sup,'\\n')\n",
    "  Pc_inf = np.column_stack((P5,P6,P7,P8,P5))  # P1 foi adicionado no final para que a última aresta possa ser plotada\n",
    "  # print('P_inf = \\n',Pc_inf,'\\n')\n",
    "\n",
    "  # Observe que Pc são as coordenadas dos pontos 3D no sistema de coordenadas da câmera\n",
    "  # Faz a projeção perspectiva dos pontos 3D obtendo as coordenadas em px dos pontos na imagem\n",
    "  pc_sup = proj_perspectiva(Pc_sup,f)\n",
    "  pc_inf = proj_perspectiva(Pc_inf,f)\n",
    "  p_im_sup = camera_to_image(pc_sup,sx,sy,ox,oy)\n",
    "  # print('p_im_sup = \\n',p_im_sup,'\\n')\n",
    "  p_im_inf = camera_to_image(pc_inf,sx,sy,ox,oy)\n",
    "  # print('p_im_inf = \\n',p_im_inf,'\\n')\n",
    "\n",
    "  # Faz o plot dos pontos\n",
    "  plt.figure()  # Cria uma nova figura\n",
    "  plt.plot(p_im_sup[0],p_im_sup[1],'bo-') # Plota a face superior em azul\n",
    "  plt.axis([0, 2*ox, 0, 2*oy]) # Define os limites da imagem considerando ox e oy no centro\n",
    "  plt.gca().invert_yaxis() # inverte o eixo y para que a origem fique no canto superior esquerdo\n",
    "  plt.gca().grid(True, linestyle='-.') # mostra grid\n",
    "  plt.gca().set_aspect('equal') # mostra eixo x e y com a mesma relação de aspecto\n",
    "\n",
    "  # Desenha a face inferior\n",
    "  plt.plot(p_im_inf[0],p_im_inf[1],'ro-')  # Plota a face inferior em vermelho\n",
    "\n",
    "  # Desenha as arestas laterais\n",
    "  plt.plot([p_im_sup[0][0], p_im_inf[0][0]],[p_im_sup[1][0], p_im_inf[1][0]],'m-')\n",
    "  plt.plot([p_im_sup[0][1], p_im_inf[0][1]],[p_im_sup[1][1], p_im_inf[1][1]],'m-')\n",
    "  plt.plot([p_im_sup[0][2], p_im_inf[0][2]],[p_im_sup[1][2], p_im_inf[1][2]],'m-')\n",
    "  plt.plot([p_im_sup[0][3], p_im_inf[0][3]],[p_im_sup[1][3], p_im_inf[1][3]],'m-')\n",
    "\n",
    "\n",
    "# Executar a função com os parâmetros desejados\n",
    "plot_imagem_cubo(f=8,sx=0.02,sy=0.02,ox=1000,oy=1000,L=1000, Zc = 2000,d = 1500)"
   ]
  },
  {
   "cell_type": "markdown",
   "metadata": {
    "id": "IQV5mBdFbFNd"
   },
   "source": [
    "### B.1 Quais propriedades da projeção perspectiva é possível observar no exemplo acima?\n",
    "\n",
    "**Resposta**:\n"
   ]
  },
  {
   "cell_type": "markdown",
   "metadata": {
    "id": "YFGEmWJGcQJY"
   },
   "source": [
    "## Parte C: Perspectiva Fraca\n",
    "\n",
    "O modelo de projeção perspectiva fraca considera que todos os pontos observados estão em um mesmo plano, perpendicular ao plano de projeção, e a uma distância $\\overline Z$ da câmera. Sendo que $\\overline Z$ é a média das coordenadas $^cZ$ dos pontos observados no ambiente em relação ao sistema de coordenada da câmera.\n",
    "\n",
    "O modelo de projeção perspectiva fraca pode ser entendido como sendo uma projeção ortográfica seguida de um escalonamento isotrópico. Na projeção ortográfica, os pontos são projetados no plano de projeção através de retas paralelas ao eixo óptico. Em seguida, o escalonamento isotrópico aplica um fator de escala em todos os pontos considerando a distância focal e o $\\overline Z$.\n",
    "\n",
    "\n"
   ]
  },
  {
   "cell_type": "markdown",
   "metadata": {
    "id": "4Bwm_R2XB0_q"
   },
   "source": [
    "## C.1: Implemente a projeção perspectiva fraca\n",
    "\n",
    "Implemente a função `pc = proj_perspectiva_fraca(Pc,f)` que aplica o modelo de projeção perspectiva fraca para encontrar as coordenadas no sistema da câmera em [mm] dos pontos no ambiente projetados no plano da imagem. Teste para o mesmo caso testado na parte B. Para valor de $L=1000$, $d =1500$ e $Z_c = 2000$, a mensagem retornada pela função é:\n",
    "\n",
    "```\n",
    "Mostrando resultado para os parâmetros:\n",
    "L= 1000  Zc= 2000  d= 1500  f= 8  sx= 0.02  sy= 0.02  ox= 1000  oy= 1000\n",
    "\n",
    "Pc =\n",
    " [[-1000  1000  1000 -1000 -1000  1000  1000 -1000]\n",
    " [-2500 -2500  -500  -500 -2500 -2500  -500  -500]\n",
    " [ 2000  2000  2000  2000  4000  4000  4000  4000]]\n",
    "\n",
    "p_im =\n",
    " [[1133.33333333  866.66666667  866.66666667 1133.33333333 1133.33333333\n",
    "   866.66666667  866.66666667 1133.33333333]\n",
    " [1333.33333333 1333.33333333 1066.66666667 1066.66666667 1333.33333333\n",
    "  1333.33333333 1066.66666667 1066.66666667]]\n",
    "```\n"
   ]
  },
  {
   "cell_type": "code",
   "execution_count": null,
   "metadata": {
    "id": "P9KKToEyfOZU"
   },
   "outputs": [],
   "source": [
    "def proj_perspectiva_fraca(Pc,f):\n",
    "  (M,N) = np.shape(Pc) # recupera o tamanho da matriz (N linhas, M colunas)\n",
    "  if(M!=3):\n",
    "    print('Aviso: a matriz Pc usada como entrada não possui três linhas!')\n",
    "\n",
    "  pc = np.zeros((3,N))  # Inicializa o vetor p de dimensão 2xN com zeros\n",
    "\n",
    "  # Encontra a projeção perspectiva fraca p dos pontos P no plano da imagem em [mm]:\n",
    "  ######################################################################\n",
    "  ##### Implemente seu código aqui\n",
    "\n",
    "\n",
    "\n",
    "\n",
    "  ######################################################################\n",
    "\n",
    "  return pc"
   ]
  },
  {
   "cell_type": "code",
   "execution_count": null,
   "metadata": {
    "id": "cDrUGVPagNlM"
   },
   "outputs": [],
   "source": [
    "def plot_imagem_cubo_fraca(f,sx,sy,ox,oy,L,Zc,d):\n",
    "\n",
    "  print('Mostrando resultado para os parâmetros:')\n",
    "  print('L=',L,' Zc=',Zc,' d=',d,' f=',f,' sx=',sx,' sy=',sy,' ox=',ox,' oy=',oy,'\\n')\n",
    "\n",
    "  # Definindo cada ponto como um vetor unidimensional usando a biblioteca numpy\n",
    "  P1 = np.array([-L, -L-d, Zc])\n",
    "  P2 = np.array([L, -L-d, Zc])\n",
    "  P3 = np.array([L, L-d, Zc])\n",
    "  P4 = np.array([-L, L-d, Zc])\n",
    "  P5 = np.array([-L, -L-d, Zc+2*L])\n",
    "  P6 = np.array([L, -L-d, Zc+2*L])\n",
    "  P7 = np.array([L, L-d, Zc+2*L])\n",
    "  P8 = np.array([-L, L-d, Zc+2*L])\n",
    "\n",
    "  # Rearranjando os dados para uma matriz onde cada coluna é um dos pontos.\n",
    "  # Para que o modelo de perspectiva fraca calcule a média da coordenada Z,\n",
    "  # todos os pontos devem ser passados de uma vez.\n",
    "  Pc = np.column_stack((P1,P2,P3,P4,P5,P6,P7,P8))\n",
    "  print('Pc = \\n',Pc,'\\n')\n",
    "\n",
    "  # Observe que Pc são as coordenadas dos pontos 3D no sistema de coordenadas da câmera\n",
    "  # Faz a projeção perspectiva fraca dos pontos 3D obtendo as coordenadas em pixel dos pontos na imagem\n",
    "  pc = proj_perspectiva_fraca(Pc,f)\n",
    "  p_im = camera_to_image(pc,sx,sy,ox,oy)\n",
    "  print('p_im = \\n',p_im,'\\n')\n",
    "\n",
    "  # Faz o plot dos pontos\n",
    "  plt.figure()  # Cria uma nova figura\n",
    "  p_im_sup = np.column_stack((p_im[:,0:4],p_im[:,0].reshape(-1,1))) # Monta a sequencia de pontos (p1, p2, p3, p4, p1)\n",
    "  #print('p_im_sup = \\n',p_im_sup,'\\n')\n",
    "  p_im_inf = np.column_stack((p_im[:,4:],p_im[:,4].reshape(-1,1))) # Monta a sequencia de pontos (p5, p6, p7, p8, p5)\n",
    "  #print('p_im_inf = \\n',p_im_inf,'\\n')\n",
    "  plt.plot(p_im_sup[0],p_im_sup[1],'bo-') # Plota a face superior em azul\n",
    "  plt.axis([0, 2*ox, 0, 2*oy]) # Define os limites da imagem considerando ox e oy no centro\n",
    "  plt.gca().invert_yaxis() # inverte o eixo y para que a origem fique no canto superior esquerdo\n",
    "  plt.gca().grid(True, linestyle='-.') # mostra grid\n",
    "  plt.gca().set_aspect('equal') # mostra eixo x e y com a mesma relação de aspecto\n",
    "\n",
    "  # Desenha a face inferior\n",
    "  plt.plot(p_im_inf[0],p_im_inf[1],'ro--')  # Plota a face inferior em vermelho\n",
    "\n",
    "  # Desenha as arestas laterais\n",
    "  plt.plot([p_im_sup[0][0], p_im_inf[0][0]],[p_im_sup[1][0], p_im_inf[1][0]],'m-')\n",
    "  plt.plot([p_im_sup[0][1], p_im_inf[0][1]],[p_im_sup[1][1], p_im_inf[1][1]],'m-')\n",
    "  plt.plot([p_im_sup[0][2], p_im_inf[0][2]],[p_im_sup[1][2], p_im_inf[1][2]],'m-')\n",
    "  plt.plot([p_im_sup[0][3], p_im_inf[0][3]],[p_im_sup[1][3], p_im_inf[1][3]],'m-')\n",
    "\n",
    "# Executar a função com os parâmetros desejados\n",
    "plot_imagem_cubo_fraca(f=8,sx=0.02,sy=0.02,ox=1000,oy=1000,L=1000, Zc = 2000,d = 1500)\n"
   ]
  },
  {
   "cell_type": "markdown",
   "metadata": {
    "id": "t6euI37d7Qff"
   },
   "source": [
    "### C.2 Para o caso do teste anterior ($Z_c = 2000$) a projeção perspectiva fraca pode ser considerada uma boa aproximação da projeção perspectiva? Por que? Qual o erro entre as projeções?\n",
    "\n",
    "**Resposta:**"
   ]
  },
  {
   "cell_type": "markdown",
   "metadata": {
    "id": "v_c_qnabQVO7"
   },
   "source": [
    "Justifique a resposta com base na diferença entre as coordenadas dos pontos na imagem obtida através dos dois tipos de projeção. Calcule e faça o print do erro entre as projeções no trecho de código a seguir."
   ]
  },
  {
   "cell_type": "code",
   "execution_count": null,
   "metadata": {
    "id": "QLlAhSx-8kyT"
   },
   "outputs": [],
   "source": [
    "########################################\n",
    "# Adicione um código aqui que calcula e mostra o print do valor da diferença entre\n",
    "# a projeção perspectiva e a projeção perspectiva fraca para Zc = 2000\n",
    "\n",
    "\n",
    "\n",
    "#######################################"
   ]
  },
  {
   "cell_type": "markdown",
   "metadata": {
    "id": "keWzbnSMv_xo"
   },
   "source": [
    "### C.3 Considere agora as seguintes condições para o problema: $f=120~mm$, $s_x=s_y=0.01~mm/px$, $o_x=1000~px$, $o_y=1000~px$, $L=1000$, $d =1500$ e $Z_c = 40000$. Para essas condições, a projeção perspectiva fraca pode ser considerada uma boa aproximação da projeção perspectiva? Por que? Qual o erro entre as projeções?\n",
    "\n",
    "**Resposta:**\n"
   ]
  },
  {
   "cell_type": "markdown",
   "metadata": {
    "id": "johkcUm8Qrmk"
   },
   "source": [
    "Justifique com base na diferença entre as coordenadas dos pontos na imagem obtida através dos dois tipos de projeção. Calcule e faça o print do erro entre as projeções no trecho de código a seguir."
   ]
  },
  {
   "cell_type": "code",
   "execution_count": null,
   "metadata": {
    "id": "V9Cj9p_FwauS"
   },
   "outputs": [],
   "source": [
    "########################################\n",
    "# Adicione seu código aqui para verificar os resultados\n",
    "plot_imagem_cubo(f=120,sx=0.02,sy=0.02,ox=1000,oy=1000,L=1000, Zc = 40000,d = 1500)\n",
    "plot_imagem_cubo_fraca(f=120,sx=0.02,sy=0.02,ox=1000,oy=1000,L=1000, Zc = 40000,d = 1500)\n",
    "\n",
    "\n",
    "########################################\n",
    "# Adicione um código aqui que calcula e mostra o print do valor da diferença entre\n",
    "# a projeção perspectiva e a projeção perspectiva fraca para Zc = 40000\n",
    "\n",
    "\n"
   ]
  },
  {
   "cell_type": "markdown",
   "metadata": {
    "id": "XvljsPJ89v9G"
   },
   "source": [
    "### C.4 Considerado $L=1000$, e $d=1500$, qual a faixa de valores de $Z_c$ para o qual a projeção perspectiva fraca se aproxima da projeção perspectiva?\n",
    "\n",
    "**Resposta:**  "
   ]
  },
  {
   "cell_type": "markdown",
   "metadata": {
    "id": "H7p4h46KRSJC"
   },
   "source": [
    "Mostre como chegou nesse resultado utilizando o trecho de código a seguir:"
   ]
  },
  {
   "cell_type": "code",
   "execution_count": null,
   "metadata": {
    "id": "Po56zsd6_Trp"
   },
   "outputs": [],
   "source": [
    "########################################\n",
    "# Utilize esse campo de código para calcular o resultado da C.3\n",
    "\n"
   ]
  },
  {
   "cell_type": "markdown",
   "metadata": {
    "id": "5FwMNcW1A6XR"
   },
   "source": [
    "# Pontuação\n",
    "\n",
    "\n",
    "\n",
    "*   A.1: 4.0 pontos [2.0 pontos para cada uma das funções implementadas]\n",
    "*   B.1: 1.0 pontos\n",
    "*   C.1: 2.0 pontos\n",
    "*   C.2: 1.0 pontos\n",
    "*   C.3: 1.0 pontos\n",
    "*   C.4: 1.0 pontos\n",
    "\n"
   ]
  }
 ],
 "metadata": {
  "colab": {
   "authorship_tag": "ABX9TyMjlOnSanVogKyuqMd1KDKV",
   "mount_file_id": "1w3IUz3DZEb1FNuSSQrfy3wKN1x_dDwmB",
   "provenance": [
    {
     "file_id": "1qeVGZKZH-6ybuDkjc-WMu0WpppDYCrzE",
     "timestamp": 1756323565078
    }
   ],
   "toc_visible": true
  },
  "kernelspec": {
   "display_name": "venv_u",
   "language": "python",
   "name": "python3"
  },
  "language_info": {
   "codemirror_mode": {
    "name": "ipython",
    "version": 3
   },
   "file_extension": ".py",
   "mimetype": "text/x-python",
   "name": "python",
   "nbconvert_exporter": "python",
   "pygments_lexer": "ipython3",
   "version": "3.12.3"
  }
 },
 "nbformat": 4,
 "nbformat_minor": 0
}
