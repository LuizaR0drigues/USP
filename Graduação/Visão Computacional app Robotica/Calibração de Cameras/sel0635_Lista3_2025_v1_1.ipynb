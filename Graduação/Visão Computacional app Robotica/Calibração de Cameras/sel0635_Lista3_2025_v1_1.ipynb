{
 "cells": [
  {
   "cell_type": "markdown",
   "metadata": {
    "id": "9mHB0QSGlTkn"
   },
   "source": [
    "# SEL635/SEL5724 - Visão Computacional Aplicada a Robótica\n",
    "\n"
   ]
  },
  {
   "cell_type": "markdown",
   "metadata": {
    "id": "xHM4wwoXnANN"
   },
   "source": [
    "**Aluno:** Luiza Rodrigues Cardoso\n",
    "\n",
    "**NUSP:** 14593332\n",
    "\n",
    "Versão do documento: 1.1"
   ]
  },
  {
   "cell_type": "markdown",
   "metadata": {
    "id": "tvWq2vEzBb2D"
   },
   "source": [
    "# Lista 3 - Calibração de Câmera\n",
    "\n",
    "O propósito deste exercício é implementar um dos métodos de calibração do livro Trucco e Verri (1998)."
   ]
  },
  {
   "cell_type": "markdown",
   "metadata": {
    "id": "57GO57fhHPEi"
   },
   "source": [
    "## Preparação do ambiente e definição de funções de exercícios anteriores"
   ]
  },
  {
   "cell_type": "code",
   "execution_count": 1,
   "metadata": {
    "id": "ju_OgoU2chYd"
   },
   "outputs": [],
   "source": [
    "# Importar as bibliotecas que serão utilizadas\n",
    "import numpy as np\n",
    "import matplotlib.pyplot as plt\n",
    "import math"
   ]
  },
  {
   "cell_type": "markdown",
   "metadata": {
    "id": "_rhi-X9yHYLx"
   },
   "source": [
    "Defina a seguir as funções implementadas em exercícios anteriores que serão utilizadas nessa Tarefa:"
   ]
  },
  {
   "cell_type": "code",
   "execution_count": 2,
   "metadata": {
    "id": "Zl9a33blHgaB"
   },
   "outputs": [],
   "source": [
    "def proj_perspectiva(Pc,f):\n",
    "  (M,N) = np.shape(Pc) # recupera o tamanho da matriz (N linhas, M colunas)\n",
    "  if(M!=3):\n",
    "    print('Aviso: a matriz Pc usada como entrada não possui três linhas!')\n",
    "\n",
    "  pc = np.zeros((3,N))  # Inicializa o vetor pc de dimensão 3xN com zeros\n",
    "  \n",
    "  # Encontra a projeção perspectiva dos pontos no plano da imagem em [mm]:\n",
    "  ######\n",
    "  # Coloque aqui o seu código para calcular a matriz pc\n",
    "  #Obtendo as coordenadas do sistema em relação ao mundo\n",
    "  Xc = Pc[0,:]\n",
    "  Yc = Pc[1,:]\n",
    "  Zc = Pc[2,:]\n",
    "\n",
    " \n",
    "\n",
    "  #aplicando o fator de correção q\n",
    "  x = f*Xc/Zc\n",
    "  y = f*Yc/Zc\n",
    "      \n",
    "  #matriz no sistema de coordenas da camera\n",
    "  pc[0,:] = x\n",
    "  pc[1,:] = y\n",
    "  pc[2,:] = 1 #coordenada homogenea\n",
    "\n",
    "  ######\n",
    "\n",
    "  return pc\n",
    "\n",
    "\n",
    "\n"
   ]
  },
  {
   "cell_type": "code",
   "execution_count": 3,
   "metadata": {
    "id": "pZ4TUlaGRcAO"
   },
   "outputs": [],
   "source": [
    "def camera_to_image(pc,sx,sy,ox,oy):\n",
    "  (M,N) = np.shape(pc) # recupera o tamanho da matriz (N linhas, M colunas)\n",
    "  if(M!=3):\n",
    "    print('Aviso: a matriz pc usada como entrada não possui três linhas!')\n",
    "\n",
    "  p_im = np.zeros((2,N))  # Inicializa o vetor p de dimensão 2xN com zeros\n",
    "\n",
    "  # Converte as coordenadas dos pontos pc do sistema da câmera em [mm] para o sistema de coordenadas da imagem em [px]:\n",
    "  #obtendo as coordenadas em relação ao sistema da camera\n",
    "  x_im = pc[0,:]\n",
    "  y_im = pc[1,:]\n",
    "  \n",
    "  #aplicando uma correção em relação à origem dos sistemas e passando da medida real(mm) para medidas discretas(pixel)\n",
    "  x = ox - (x_im/sx)    \n",
    "  y = oy - (y_im/sy)\n",
    "      \n",
    "  #matriz de coordenadas no sistema da imagem(x,y) em pixels\n",
    "  p_im[0,:] = x\n",
    "  p_im[1,:] = y \n",
    "    \n",
    "  \n",
    "  ######\n",
    "\n",
    "  return p_im"
   ]
  },
  {
   "cell_type": "code",
   "execution_count": 4,
   "metadata": {
    "id": "RsH-i133RcAP"
   },
   "outputs": [],
   "source": [
    "def calibration_pattern(n,d):\n",
    "    Pw = np.zeros((3,3*n*n+7))\n",
    "    Pw[:,0] = [0, 0, 0]\n",
    "    Pw[:,1] = [n*d, 0, 0]\n",
    "    Pw[:,2] = [0, n*d, 0]\n",
    "    Pw[:,3]=[0, 0, n*d];\n",
    "    Pw[:,4]=[n*d, n*d, 0];\n",
    "    Pw[:,5]=[n*d, 0, n*d];\n",
    "    Pw[:,6]=[0, n*d, n*d];\n",
    "\n",
    "    for i in range(n):\n",
    "        for j in range(n):\n",
    "            Pw[:,n*i+j+7]= [d*j, d*i, 0]\n",
    "            Pw[:,n*n + n*i+j+7]= [0, d*j, d*i];\n",
    "            Pw[:,2*n*n + n*i+j+7]= [d*i, 0, d*j];\n",
    "\n",
    "    return Pw"
   ]
  },
  {
   "cell_type": "code",
   "execution_count": 5,
   "metadata": {
    "id": "ndsjogDvRzvT"
   },
   "outputs": [],
   "source": [
    "def Rx(theta):\n",
    "    theta = np.radians(theta)\n",
    "    R = np.array([[1, 0, 0], [0, np.cos(theta), -np.sin(theta)], [0, np.sin(theta), np.cos(theta)]])\n",
    "    return R\n",
    "def Ry(theta):\n",
    "    theta = np.radians(theta)\n",
    "    R = np.array([[np.cos(theta), 0, np.sin(theta)], [0, 1, 0], [-np.sin(theta), 0, np.cos(theta)]])\n",
    "    return R\n",
    "def Rz(theta):\n",
    "    theta = np.radians(theta)\n",
    "    R = np.array([[np.cos(theta), -np.sin(theta), 0], [np.sin(theta), np.cos(theta), 0], [0, 0, 1]])\n",
    "    return R\n",
    "def Homogenea(R,t):\n",
    "    t = t.reshape(-1, 1) #vetor de translação (formato de vetor coluna)\n",
    "    H = np.concatenate((R,t),axis=1) #concatena na horizontal a matriz de rotação e vetor de translação\n",
    "    temp_v = np.array([0,0,0,1]).reshape(1, -1) #ultima linha da matriz homogênia (formato de vetor linha)\n",
    "    H = np.concatenate((H,temp_v),axis=0) #concatena na vertical a ultima linha da matriz de homografia\n",
    "    return H"
   ]
  },
  {
   "cell_type": "code",
   "execution_count": 6,
   "metadata": {
    "id": "R0agk3wkRcAP"
   },
   "outputs": [],
   "source": [
    "def world_to_camera(Pw,Rwc,Twc):\n",
    "    (M,N) = np.shape(Pw) # recupera o tamanho da matriz (M linhas, N colunas)\n",
    "\n",
    "    # Coloque seu codigo aqui\n",
    "    Pc = Rwc.T @ (Pw - Twc)\n",
    "\n",
    "    return Pc\n"
   ]
  },
  {
   "cell_type": "code",
   "execution_count": 7,
   "metadata": {
    "id": "zNOsWGjWRcAQ"
   },
   "outputs": [],
   "source": [
    "def world_to_image(Pw,Rwc,Twc,f,sx,sy,ox,oy):\n",
    "\n",
    "    # Coloque seu codigo aqui\n",
    "    #passando as coord do mundo para a camera\n",
    "    Pc = world_to_camera(Pw, Rwc, Twc)\n",
    "    \n",
    "    #aplicando projeção prespectiva\n",
    "    pc = proj_perspectiva(Pc, f)\n",
    "\n",
    "    #passando as coord da camera para a imagem\n",
    "    p_im = camera_to_image(pc, sx, sy, ox, oy)\n",
    "\n",
    "    return p_im\n"
   ]
  },
  {
   "cell_type": "code",
   "execution_count": 8,
   "metadata": {
    "id": "ibG6R6fiRcAQ"
   },
   "outputs": [],
   "source": [
    "def plot_image(p_im,size_x,size_y):\n",
    "    plt.figure()\n",
    "    plt.plot(p_im[0,4:],p_im[1,4:],'bo',mfc='none')\n",
    "    plt.plot(p_im[0,0],p_im[1,0],'ko',mfc='none')\n",
    "    plt.plot(p_im[0,1],p_im[1,1],'co',mfc='none')\n",
    "    plt.plot(p_im[0,2],p_im[1,2],'ro',mfc='none')\n",
    "    plt.plot(p_im[0,3],p_im[1,3],'go',mfc='none')\n",
    "    plt.axis([0, size_x, size_y, 0])"
   ]
  },
  {
   "cell_type": "markdown",
   "metadata": {
    "id": "Ik8BqPvzGHlw"
   },
   "source": [
    "## Parte A: Imagens do Padrão de Calibração\n",
    "\n",
    "Considere as duas câmeras e o padrão de calibração definidos e posicinados de acordo com as instruções da Tarefa 2.\n",
    "\n",
    "Coloque a seguir a sequência de código utilizada ao final da Tarefa 2 para obter a imagem da câmera 1 e da câmera 2 do padrão de calibração."
   ]
  },
  {
   "cell_type": "code",
   "execution_count": 9,
   "metadata": {},
   "outputs": [],
   "source": [
    "#Matrizes de rotação\n",
    "#todas rotação são em relação ao sistema de coordenadas da camera/eixos atuais\n",
    "r11 = Rz(20) #rotação de 20° em relação ao eixo z\n",
    "r12 = Ry(-140) #rotação de -140° em relação ao eixo y\n",
    "r13 = Rx(25) #rotação de 25° em relação ao eixo x\n",
    "\n",
    "#matriz geral de rotação\n",
    "Rwc1 = r11@r12@r13 \n",
    "\n",
    "## Insira seu codigo aqui para calcular e mostrar a matriz de rotação da câmera 2 em relação ao sistema de coordenadas do mundo\n",
    "#rotações em relação ao eixo da camera e do mundo/ rotações mistas\n",
    "r21 = Rx(5) #rotação em relação ao eixo x, em relação a camera\n",
    "r22 = Ry(-120) #rotação em relação ao eixo y, em relação ao mundo\n",
    "r23 = Rz(35) #rotação em relação ao eixo z, em relação ao mundo\n",
    "\n",
    "#No enunciado diz que as rotações em Z e y ocorrem em relação ao mundo e a rotação em X em relação a camera\n",
    "#Assim, foi necessário aplicar as rotação relacionadas ao mundo antes dos eixos atuais\n",
    "Rwc2 = r23 @ r22 @r21 "
   ]
  },
  {
   "cell_type": "code",
   "execution_count": 10,
   "metadata": {
    "id": "LUOXzzUgRcAR"
   },
   "outputs": [
    {
     "name": "stdout",
     "output_type": "stream",
     "text": [
      "Parametros Intrísecos da camera 1:\n",
      "f: 12, sx: 0.01, sy: 0.01, ox: 800, oy: 600, alpha = 0\n",
      "Parametros Extrísecos da camera 1:\n",
      "Matriz de rotação(world->camera): \n",
      "[[-0.71984631 -0.56524657 -0.40288658]\n",
      " [-0.26200263  0.75873967 -0.59637969]\n",
      " [ 0.64278761 -0.32374437 -0.69427204]]\n",
      "vetor translação da camera1: \n",
      "[[1600]\n",
      " [1800]\n",
      " [1700]]\n",
      "p_im1 =  [[ 580.30924478  890.99327337  659.97269703  161.147924   1085.12209782\n",
      "   497.82829469]\n",
      " [ 563.13981745  828.99888456  158.06751211  727.78910845  421.4805493\n",
      "  1132.95125045]]\n",
      "Parametros Intrísecos da camera 1:\n",
      "f: 12, sx: 0.01, sy: 0.01, ox: 800, oy: 600, alpha = 0\n",
      "Parametros Extrísecos da camera 1:\n",
      "Matriz de rotação(world->camera): \n",
      "[[-0.40957602 -0.63322265 -0.65671649]\n",
      " [-0.28678822  0.7727419  -0.56623536]\n",
      " [ 0.8660254  -0.04357787 -0.49809735]]\n",
      "vetor translação da camera1: \n",
      "[[1700]\n",
      " [1500]\n",
      " [1600]]\n",
      "p_im2 =  [[ 912.57533459 1181.05516852 1098.27603088  478.43941228 1544.68802215\n",
      "   652.77539125]\n",
      " [ 605.60739093  968.16479952  184.88407634  629.93210835  501.32882709\n",
      "  1114.73700712]]\n"
     ]
    },
    {
     "data": {
      "image/png": "[encoded data removed]",
      "text/plain": [
       "<Figure size 640x480 with 1 Axes>"
      ]
     },
     "metadata": {},
     "output_type": "display_data"
    },
    {
     "data": {
      "image/png": "[encoded data removed]",
      "text/plain": [
       "<Figure size 640x480 with 1 Axes>"
      ]
     },
     "metadata": {},
     "output_type": "display_data"
    }
   ],
   "source": [
    "## Coloque seu código aqui para fazer cada um dos passos a seguir\n",
    "\n",
    "# Definir o padrão de calibração:\n",
    "Pw = calibration_pattern(n=10,d=100) # pontos do padrão de calibração\n",
    "#dados\n",
    "f = 12\n",
    "sx = sy = 0.01\n",
    "ox = 800\n",
    "oy = 600\n",
    "\n",
    "# Definir a câmera 1:\n",
    "#vetor posição\n",
    "Tw_c1 = np.array([[1600], [1800], [1700]])\n",
    "#a imagem obtida pela câmera 1\n",
    "p_im1 = world_to_image(Pw, Rwc1, Tw_c1, f, sx, sy, ox, oy)\n",
    "\n",
    "# TODO: Faça um print dos parâmetros intrínsecos e extrínsecos da camera 1\n",
    "print(\"Parametros Intrísecos da camera 1:\")\n",
    "print(f\"f: {f}, sx: {sx}, sy: {sy}, ox: {ox}, oy: {oy}, alpha = 0\")\n",
    "print(\"Parametros Extrísecos da camera 1:\")\n",
    "print(f\"Matriz de rotação(world->camera): \\n{Rwc1}\")\n",
    "print(f\"vetor translação da camera1: \\n{Tw_c1}\")\n",
    "\n",
    "# Obter a imagem do padrão de calibração a partir da câmera 1:\n",
    "plot_image(p_im1,size_x=1600,size_y=1200)\n",
    "print('p_im1 = ',p_im1[:,0:6])\n",
    "\n",
    "# Definir a câmera 2:\n",
    "#posição da camera 2\n",
    "Tw_c2 = np.array([[1700], [1500], [1600]])\n",
    "\n",
    "#a imagem obtida pela câmera 2\n",
    "p_im2 = world_to_image(Pw, Rwc2, Tw_c2, f, sx, sy, ox, oy)\n",
    "\n",
    "# TODO: Faça um print dos parâmetros intrínsecos e extrínsecos da camera 2\n",
    "print(\"Parametros Intrísecos da camera 1:\")\n",
    "print(f\"f: {f}, sx: {sx}, sy: {sy}, ox: {ox}, oy: {oy}, alpha = 0\")\n",
    "print(\"Parametros Extrísecos da camera 1:\")\n",
    "print(f\"Matriz de rotação(world->camera): \\n{Rwc2}\")\n",
    "print(f\"vetor translação da camera1: \\n{Tw_c2}\")\n",
    "\n",
    "# Obter a imagem do padrão de calibração a partir da câmera 2:\n",
    "p_im2 = world_to_image(Pw, Rwc2, Tw_c2, f, sx, sy, ox, oy)\n",
    "plot_image(p_im2,size_x=1600,size_y=1200)\n",
    "print('p_im2 = ',p_im2[:,0:6])\n",
    "\n",
    "\n",
    "\n"
   ]
  },
  {
   "cell_type": "markdown",
   "metadata": {
    "id": "uoJHEXpaZi6L"
   },
   "source": [
    "## Parte B: Calibração de Câmeras\n",
    "\n",
    "1. Implemente a função `Rwc,Twc,fx,fy,ox,oy = calibrate_camera(Pw,p_im)` utilizando um dos métodos de calibração de câmera apresentado em aula. A entrada da função deve ser uma matriz $P_w$ de dimensão $3\\times N$ que são as coordenadas dos pontos do padrão de calibração descritas no sistema de coordenadas do mundo, $\\{W\\}$, e uma matriz $p_{im}$ de dimensão $2\\times N$ que são as coordenadas da imagem em pixels correspondentes a cada um dos pontos do padrão de calibração. A função deve retornar os seguintes parâmetros na ordem: ${^wR_c}$ a orientação da câmera em relação ao sistema de coordenadas do mundo; $^wT_c$ a posição do centro óptico da câmera em relação ao sistema de coordenadas do mundo em [m]; $f_x$ e $f_y$ a distância focal em $[mm/pixel]$; $o_x$ e $o_y$ a posição na imagem da projeção do centro óptico dada em $[pixel]$."
   ]
  },
  {
   "cell_type": "code",
   "execution_count": 11,
   "metadata": {
    "id": "arak9Mn5b-YC"
   },
   "outputs": [],
   "source": [
    "def calibrate_camera(Pw,p_im):\n",
    "  (M,N) = np.shape(Pw)\n",
    "    #montamdo a matriz A\n",
    "  A = np.zeros((2*N, 12))\n",
    "\n",
    "  #obtendo os vetores relacionadas as posições x,y,z no mundo e imagem\n",
    "  Xw = Pw[0,:]\n",
    "  Yw = Pw[1,:]\n",
    "  Zw = Pw[2,:]\n",
    "\n",
    "  Xim = p_im[0,:]\n",
    "  Yim = p_im[1,:]\n",
    "  \n",
    "  #definindo A\n",
    "  for i in range(N):\n",
    "    \n",
    "    X1 = Xw[i]\n",
    "    Y1 = Yw[i]\n",
    "    Z1 = Zw[i]\n",
    "    x1 = Xim[i]\n",
    "    y1 = Yim[i]\n",
    "    #indice par - linha x\n",
    "    k_x = 2*i\n",
    "    #Indice impar - linha y\n",
    "    k_y =  k_x+1\n",
    "    \n",
    "    A[k_x,:] = [ X1, Y1, Z1, 1, 0, 0, 0, 0, -x1*X1, -x1*Y1, -x1*Z1,-x1]\n",
    "    A[k_y, :] = [ 0, 0, 0, 0,X1, Y1, Z1, 1, -y1*X1, -y1*Y1, -y1*Z1, -y1]\n",
    "    \n",
    "  #uso da biblio numpy pra calcular o SVD\n",
    "  #retorno sao as matrizes U, S, Vh.T onde m será a coluna de Vt que contem os menores valores, i.e., a ultima linha\n",
    "  U, S, Vt = np.linalg.svd(A, full_matrices=True, compute_uv=True, hermitian=False)\n",
    "    \n",
    "  m = Vt[-1,:] #matriz 4x3\n",
    "  m_estim = m.reshape((3,4))\n",
    "  #print(\"Matriz estimada: \\n\", m_estim)\n",
    "  \n",
    "  #calculo dos paramteros a partir dos vetores qi(3x1) que são os 3 primeiros elem da matriz estimada\n",
    "  q1 = m_estim[0,0:3] # [m11, m12, m13]t\n",
    "  q2 = m_estim[1,0:3] #[m21, m22, m23]t\n",
    "  q3 = m_estim[2,0:3]# [m31, m32, m33]t\n",
    "  q4 = m_estim[:,3] #[m14, m24, m34]t\n",
    "\n",
    "  #normalizando os elems - fator de escala gama\n",
    "  gama = np.linalg.norm(q3)\n",
    "  \n",
    "  q1_norm = q1 / gama\n",
    "  q2_norm = q2 / gama\n",
    "  q3_norm =  q3 / gama\n",
    "  q4_norm  =  q4 / gama\n",
    "\n",
    "  #centro optico\n",
    "  ox = q1_norm.T @ q3_norm\n",
    "  oy = q2_norm.T @ q3_norm\n",
    "\n",
    "  #fatores extrinsecos\n",
    "  #distancia focal\n",
    "  \n",
    "  fx = np.sqrt(max(0, (q1_norm.T@q1_norm) - (ox**2)))\n",
    "  fy = np.sqrt(max(0,(q2_norm.T@q2_norm) - (oy**2)))\n",
    "  \n",
    "  #problema quando fy ou fx são muito pequenos\n",
    "  if fx < 1e-6: fx = 1e-6\n",
    "  if fy < 1e-6: fy = 1e-6\n",
    "\n",
    "  Tz = q4_norm[2] # se positivo, em frente a camera,cc: atras dela\n",
    "  if Tz >= 0:\n",
    "    sigma = 1\n",
    "  else:\n",
    "    sigma = -1\n",
    "\n",
    "  #calculando as linhas da matriz de rotação\n",
    "  r1_i = sigma * (ox*q3_norm - q1_norm)/fx\n",
    "  r2_i = sigma *( oy*q3_norm - q2_norm)/fy\n",
    "  r3_i = sigma * q3_norm\n",
    "\n",
    "  #matriz de translação\n",
    "  Tx = (ox*Tz - q4_norm[0])/fx\n",
    "  Ty = (oy*Tz - q4_norm[1])/fy\n",
    "\n",
    "  #definindo a matriz de rotação\n",
    "  R = np.vstack((r1_i, r2_i, r3_i)) #stack vertical\n",
    "\n",
    "  # a matriz precisa ser ortonormal\n",
    "  Ur, Dr, Vtr = np.linalg.svd(R)\n",
    "  Rwc = (Ur @ Vtr)\n",
    "\n",
    "  #analisando o det\n",
    "  det =  np.linalg.det(Rwc)\n",
    "  if det <0:\n",
    "    Ur[:,2] = -Ur[:,2] #inverte o sinal pro det >0\n",
    "    Rwc = (Ur @ Vtr)\n",
    "    \n",
    "  #definindo a translação\n",
    "  Twc = np.vstack((Tx, Ty, Tz)).reshape(3,1)\n",
    "\n",
    "  #verificando a posição dos pontos em relação a camera\n",
    "  ponto1 = Pw[:, 0:1]\n",
    "  Pcteste = Rwc @ ponto1 + Twc\n",
    "  print(\"PONTO1\",Pcteste)\n",
    "  if Pcteste[2,0] < 0:# se a cordenada z for negativa\n",
    "    Twc = -Twc #espelha a posição pro eixo positivo\n",
    "    \n",
    "  #Passando as coord camera-mundo\n",
    "  Rcw = Rwc.T\n",
    "  Tcw = -Rwc.T@Twc\n",
    "  return Rcw,Tcw,fx,fy,ox,oy"
   ]
  },
  {
   "cell_type": "markdown",
   "metadata": {
    "id": "l8ARzjvTb-6z"
   },
   "source": [
    "2. Faça um script para testar a calibração para a câmera 1."
   ]
  },
  {
   "cell_type": "code",
   "execution_count": 12,
   "metadata": {
    "id": "6M7X0E5jcOfr"
   },
   "outputs": [
    {
     "name": "stdout",
     "output_type": "stream",
     "text": [
      "Rwc1 =\n",
      " [[-0.71984631 -0.56524657 -0.40288658]\n",
      " [-0.26200263  0.75873967 -0.59637969]\n",
      " [ 0.64278761 -0.32374437 -0.69427204]]\n",
      "Twc1 =\n",
      " [[1600]\n",
      " [1800]\n",
      " [1700]]\n",
      "Valores Encontrados\n",
      "PONTO1 [[ -530.61989421]\n",
      " [  -89.02853482]\n",
      " [-2898.36444277]]\n",
      "A matriz de Rotação: \n",
      " [[-0.71984631 -0.56524657 -0.40288658]\n",
      " [-0.26200263  0.75873967 -0.59637968]\n",
      " [ 0.64278761 -0.32374437 -0.69427204]]\n",
      "A matriz posição: \n",
      " [[1599.9999996 ]\n",
      " [1799.9999995 ]\n",
      " [1699.99999951]]\n",
      "Distancias focais: fx=1199.999999540286 e fy=1199.9999996801494 em pixels e\n",
      " em mm fx=11.99999999540286 e fy=11.999999996801494\n",
      "Distancia dos centros opticos: ox=799.999999822561 e oy=599.9999997534374\n"
     ]
    }
   ],
   "source": [
    "#Padrão de calibração\n",
    "Pw = calibration_pattern(n=10, d=100)\n",
    "f =12\n",
    "sy = sy = 0.01\n",
    "ox = 800\n",
    "oy = 600\n",
    "\n",
    "#A camera 1 possui as seguintes rotações\n",
    "r11 = Rz(20) #rotação de 20° em relação ao eixo z\n",
    "r12 = Ry(-140) #rotação de -140° em relação ao eixo y\n",
    "r13 = Rx(25) #rotação de 25° em relação ao eixo x\n",
    "\n",
    "#matriz geral de rotação\n",
    "Rwc1 = r11@r12@r13 \n",
    "print('Rwc1 =\\n',Rwc1)\n",
    "\n",
    "#E sua posição é dado por:\n",
    "zeros = np.zeros((1,3))\n",
    "one = np.ones((1,1))\n",
    "Tw_c1 = np.array([[1600], [1800], [1700]])\n",
    "print('Twc1 =\\n',Tw_c1)\n",
    "#Assim, temos que P_im será:\n",
    "p_im1= world_to_image(Pw,Rwc1, Tw_c1, f, sx, sy, ox, oy)\n",
    "#print('p_im1 = ',p_im1[:,0:6])\n",
    "\n",
    "print(\"Valores Encontrados\")\n",
    "#Obtendo os parametros extrinsecos \n",
    "Rwc_est,Twc_est,fx_est,fy_est,ox_est,oy_est = calibrate_camera(Pw, p_im1)\n",
    "print('A matriz de Rotação: \\n', Rwc_est)\n",
    "print('A matriz posição: \\n', Twc_est)\n",
    "print(f'Distancias focais: fx={fx_est} e fy={fy_est} em pixels e\\n em mm fx={fx_est*sx} e fy={fy_est*sy}')\n",
    "print(f'Distancia dos centros opticos: ox={ox_est} e oy={oy_est}')\n"
   ]
  },
  {
   "cell_type": "markdown",
   "metadata": {
    "id": "B6Zyy12vRcAU"
   },
   "source": [
    "3. Faça um script para comparar os parâmetros obtidos através do método de calibração implementado com os parâmetros conhecidos das câmeras. Ou seja, apresente o erro entre os parâmetros `Rwc,Twc,fx,fy,ox,oy` conhecidos e os estimados para a câmera 1"
   ]
  },
  {
   "cell_type": "code",
   "execution_count": 13,
   "metadata": {
    "id": "MsyhpKVERcAU"
   },
   "outputs": [],
   "source": [
    "#Utilizando o RMSE para calcular a semelhanças dos parametros encontrados\n",
    "def rmse(referencia, estimado):\n",
    "    if (isinstance(referencia,int) and isinstance(estimado, int)) or (isinstance(referencia,float) and isinstance(estimado, float)) or (isinstance(referencia,int) and isinstance(estimado, float)):\n",
    "        dim_ref =1\n",
    "        dim_estimado=1\n",
    "    else:\n",
    "        dim_ref = referencia.shape[0]\n",
    "        dim_estimado = estimado.shape[0]\n",
    "\n",
    "    \n",
    "    \n",
    "    rmse = np.sqrt(np.sum((estimado - referencia) ** 2) / (dim_ref * dim_estimado))\n",
    "    \n",
    "    print('O erro entre o valor original e o valor estimado foi de {:.6f}'.format(rmse))\n"
   ]
  },
  {
   "cell_type": "code",
   "execution_count": 14,
   "metadata": {},
   "outputs": [
    {
     "name": "stdout",
     "output_type": "stream",
     "text": [
      "Erro quadratico medio entre as matriz de Rotação:\n",
      "O erro entre o valor original e o valor estimado foi de 0.000000\n",
      "\n",
      "Erro quadratico medio entre as matriz de Translação:\n",
      "O erro entre o valor original e o valor estimado foi de 0.000000\n",
      "\n",
      "Erro quadratico medio entre as distancia focal no eixo X[mm]:\n",
      "O erro entre o valor original e o valor estimado foi de 0.000000\n",
      "4.597140446094272e-09\n",
      "\n",
      "Erro quadratico medio entre as distancia focal no eixo Y[mm]:\n",
      "O erro entre o valor original e o valor estimado foi de 0.000000\n",
      "3.1985063486672516e-09\n",
      "\n",
      "Erro quadratico medio entre os eixos opticos no eixo X[pixels]:\n",
      "O erro entre o valor original e o valor estimado foi de 0.000000\n",
      "1.7743900571076665e-07\n",
      "\n",
      "Erro quadratico medio entre os eixos opticos no eixo Y[pixelss]:\n",
      "O erro entre o valor original e o valor estimado foi de 0.000000\n",
      "2.465626494085882e-07\n"
     ]
    }
   ],
   "source": [
    "print(\"Erro quadratico medio entre as matriz de Rotação:\")\n",
    "erro_rotacao = rmse(Rwc1, Rwc_est)\n",
    "\n",
    "print(\"\\nErro quadratico medio entre as matriz de Translação:\")\n",
    "erro_rotacao = rmse(Tw_c1, Twc_est)\n",
    "\n",
    "print(\"\\nErro quadratico medio entre as distancia focal no eixo X[mm]:\")\n",
    "erro_rotacao = rmse(f, fx_est*sx)\n",
    "print(f-(fx_est*sx)) #a dimensao da diff nos permite dizer que são semelhantes\n",
    "\n",
    "print(\"\\nErro quadratico medio entre as distancia focal no eixo Y[mm]:\")\n",
    "erro_rotacao = rmse(f, fy_est*sy)\n",
    "print(f-(fy_est*sy))\n",
    "\n",
    "print(\"\\nErro quadratico medio entre os eixos opticos no eixo X[pixels]:\")\n",
    "erro_rotacao = rmse(ox, ox_est)\n",
    "print(ox-(ox_est)) #a dimensao da diff nos permite dizer que são semelhantes\n",
    "\n",
    "print(\"\\nErro quadratico medio entre os eixos opticos no eixo Y[pixelss]:\")\n",
    "erro_rotacao = rmse(oy, oy_est)\n",
    "print(oy-(oy_est))"
   ]
  },
  {
   "cell_type": "markdown",
   "metadata": {
    "id": "d4JVCZwTRcAU"
   },
   "source": [
    "3. Faça um script para testar a calibração para a câmera 2."
   ]
  },
  {
   "cell_type": "code",
   "execution_count": 15,
   "metadata": {
    "id": "q-X9itxIRcAU"
   },
   "outputs": [
    {
     "name": "stdout",
     "output_type": "stream",
     "text": [
      "Rwc2 =\n",
      " [[-0.40957602 -0.63322265 -0.65671649]\n",
      " [-0.28678822  0.7727419  -0.56623536]\n",
      " [ 0.8660254  -0.04357787 -0.49809735]]\n",
      "Twc2 =\n",
      " [[1700]\n",
      " [1500]\n",
      " [1600]]\n",
      "Valores Encontrados\n",
      "PONTO1 [[-259.17908063]\n",
      " [ -12.90974113]\n",
      " [2762.72683073]]\n",
      "A matriz de Rotação: \n",
      " [[-0.40957602 -0.63322265 -0.65671649]\n",
      " [-0.28678822  0.7727419  -0.56623536]\n",
      " [ 0.8660254  -0.04357787 -0.49809735]]\n",
      "A matriz posição: \n",
      " [[1699.99999974]\n",
      " [1499.99999976]\n",
      " [1600.00000003]]\n",
      "Distancias focais: fx=1199.999999667741 e fy=1199.999999952514 em pixels e\n",
      " em mm fx=11.99999999540286 e fy=11.999999996801494\n",
      "Distancia dos centros opticos: ox=800.0000002468554 e oy=599.9999999977014\n"
     ]
    }
   ],
   "source": [
    "r21 = Rx(5) #rotação em relação ao eixo x, em relação a camera\n",
    "r22 = Ry(-120) #rotação em relação ao eixo y, em relação ao mundo\n",
    "r23 = Rz(35) #rotação em relação ao eixo z, em relação ao mundo\n",
    "\n",
    "#No enunciado diz que as rotações em Z e y ocorrem em relação ao mundo e a rotação em X em relação a camera\n",
    "#Assim, foi necessário aplicar as rotação relacionadas ao mundo antes dos eixos atuais\n",
    "Rwc2 = r23 @ r22 @r21 \n",
    "print('Rwc2 =\\n',Rwc2)\n",
    "\n",
    "Tw_c2 = (np.array([[1700,1500,1600]])).reshape(3,1)\n",
    "print('Twc2 =\\n',Tw_c2)\n",
    "\n",
    "#Assim, temos que P_im será:\n",
    "p_im2= world_to_image(Pw,Rwc2, Tw_c2, f, sx, sy, ox, oy)\n",
    "#print('p_im1 = ',p_im1[:,0:6])\n",
    "\n",
    "print(\"Valores Encontrados\")\n",
    "#Obtendo os parametros extrinsecos \n",
    "Rwc_est2,Twc_est2,fx_est2,fy_est2,ox_est2,oy_est2 = calibrate_camera(Pw, p_im2)\n",
    "print('A matriz de Rotação: \\n', Rwc_est2)\n",
    "print('A matriz posição: \\n', Twc_est2)\n",
    "print(f'Distancias focais: fx={fx_est2} e fy={fy_est2} em pixels e\\n em mm fx={fx_est*sx} e fy={fy_est*sy}')\n",
    "print(f'Distancia dos centros opticos: ox={ox_est2} e oy={oy_est2}')\n",
    "\n",
    "\n"
   ]
  },
  {
   "cell_type": "markdown",
   "metadata": {
    "id": "W7noyyFWRcAV"
   },
   "source": [
    "4. Faça um script para comparar os parâmetros obtidos através do método de calibração implementado com os parâmetros conhecidos das câmeras. Ou seja, apresente o erro entre os parâmetros `Rwc,Twc,fx,fy,ox,oy` conhecidos e os estimados para a câmera 2."
   ]
  },
  {
   "cell_type": "code",
   "execution_count": 16,
   "metadata": {
    "id": "wsgTqJ_zRcAV"
   },
   "outputs": [
    {
     "name": "stdout",
     "output_type": "stream",
     "text": [
      "Erro quadratico medio entre as matriz de Rotação:\n",
      "O erro entre o valor original e o valor estimado foi de 0.000000\n",
      "\n",
      "Erro quadratico medio entre as matriz de Translação:\n",
      "O erro entre o valor original e o valor estimado foi de 0.000000\n",
      "\n",
      "Erro quadratico medio entre as distancia focal no eixo X[mm]:\n",
      "O erro entre o valor original e o valor estimado foi de 0.000000\n",
      "3.3225902029698773e-09\n",
      "\n",
      "Erro quadratico medio entre as distancia focal no eixo Y[mm]:\n",
      "O erro entre o valor original e o valor estimado foi de 0.000000\n",
      "4.748610393789932e-10\n",
      "\n",
      "Erro quadratico medio entre os eixos opticos no eixo X[pixels]:\n",
      "O erro entre o valor original e o valor estimado foi de 0.000000\n",
      "-2.4685539301572135e-07\n",
      "\n",
      "Erro quadratico medio entre os eixos opticos no eixo Y[pixelss]:\n",
      "O erro entre o valor original e o valor estimado foi de 0.000000\n",
      "2.2986341718933545e-09\n"
     ]
    }
   ],
   "source": [
    "print(\"Erro quadratico medio entre as matriz de Rotação:\")\n",
    "erro_rotacao = rmse(Rwc2, Rwc_est2)\n",
    "\n",
    "print(\"\\nErro quadratico medio entre as matriz de Translação:\")\n",
    "erro_rotacao = rmse(Tw_c2, Twc_est2)\n",
    "\n",
    "print(\"\\nErro quadratico medio entre as distancia focal no eixo X[mm]:\")\n",
    "erro_rotacao = rmse(f, fx_est2*sx)\n",
    "print(f-(fx_est2*sx)) #a dimensao da diff nos permite dizer que são semelhantes\n",
    "\n",
    "print(\"\\nErro quadratico medio entre as distancia focal no eixo Y[mm]:\")\n",
    "erro_rotacao = rmse(f, fy_est2*sy)\n",
    "print(f-(fy_est2*sy))\n",
    "\n",
    "print(\"\\nErro quadratico medio entre os eixos opticos no eixo X[pixels]:\")\n",
    "erro_rotacao = rmse(ox, ox_est2)\n",
    "print(ox-(ox_est2)) #a dimensao da diff nos permite dizer que são semelhantes\n",
    "\n",
    "print(\"\\nErro quadratico medio entre os eixos opticos no eixo Y[pixelss]:\")\n",
    "erro_rotacao = rmse(oy, oy_est2)\n",
    "print(oy-(oy_est2))"
   ]
  },
  {
   "cell_type": "markdown",
   "metadata": {
    "id": "Gvv1QBdmEzz6"
   },
   "source": [
    "### Imagens esperadas do Padrão de Calibração\n",
    "\n",
    "A Figura 1 e 2 mostram as imagens do padrão de calibração esperadas para a câmera 1 e 2 respectivamente.\n",
    "\n",
    "\n",
    "<div>\n",
    "<img src='https://drive.google.com/uc?id=15N_OAMHxABu1OYHaJ8puM-NosodEKoKw' width=\"500\"/>\n",
    "</div>\n",
    "Figura 1 - Imagem do padrão de calibração obtida pela câmera 1\n",
    "\n",
    "\n",
    "<div>\n",
    "<img src='https://drive.google.com/uc?id=1N_bHV5sYUH2W3VXgDLSSOs0ILKOqcqz2' width=\"500\"/>\n",
    "</div>\n",
    "Figura 2 - Imagem do padrão de calibração obtida pela câmera 2\n"
   ]
  }
 ],
 "metadata": {
  "colab": {
   "provenance": [
    {
     "file_id": "1Mb6Mp1ZGjLlbsqUY3JX3a338DtT60Jl-",
     "timestamp": 1758542382240
    }
   ]
  },
  "kernelspec": {
   "display_name": ".venv_u",
   "language": "python",
   "name": "python3"
  },
  "language_info": {
   "codemirror_mode": {
    "name": "ipython",
    "version": 3
   },
   "file_extension": ".py",
   "mimetype": "text/x-python",
   "name": "python",
   "nbconvert_exporter": "python",
   "pygments_lexer": "ipython3",
   "version": "3.12.3"
  }
 },
 "nbformat": 4,
 "nbformat_minor": 0
}
