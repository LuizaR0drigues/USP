{
 "cells": [
  {
   "cell_type": "markdown",
   "id": "371c695d-ad2a-4f8a-84b4-920adff8c354",
   "metadata": {},
   "source": [
    "#tutorial de python"
   ]
  },
  {
   "cell_type": "code",
   "execution_count": 17,
   "id": "aea70bd9-a008-4793-ae93-92a4c07dae40",
   "metadata": {},
   "outputs": [
    {
     "name": "stdout",
     "output_type": "stream",
     "text": [
      "1.0 \n",
      "\n",
      "[1. 2. 3. 4.] \n",
      "\n"
     ]
    }
   ],
   "source": [
    "import numpy as np\n",
    "a = 1.0\n",
    "print( a, '\\n')\n",
    "\n",
    "b = np.array([1, 2, 3, 4], dtype=np.float64)\n",
    "print(b, '\\n')"
   ]
  },
  {
   "cell_type": "code",
   "execution_count": 13,
   "id": "87c2cdfb-e8a8-4ae9-826a-6192d8febba7",
   "metadata": {},
   "outputs": [
    {
     "name": "stdout",
     "output_type": "stream",
     "text": [
      "[[1. 1. 1. 1. 1.]\n",
      " [1. 1. 1. 1. 1.]] \n",
      "\n"
     ]
    }
   ],
   "source": [
    "u = np.ones(shape=(2,5), dtype=np.float64)\n",
    "print(u, '\\n')"
   ]
  },
  {
   "cell_type": "code",
   "execution_count": 19,
   "id": "dfc3d03c-4281-49dd-ae43-25feff9e10fe",
   "metadata": {},
   "outputs": [
    {
     "name": "stdout",
     "output_type": "stream",
     "text": [
      "[[0.67796701 0.40105583 0.90900311 0.59690136]\n",
      " [0.23716076 0.44193695 0.92302694 0.72173458]\n",
      " [0.12970375 0.32545772 0.9388903  0.63228364]] \n",
      "\n"
     ]
    }
   ],
   "source": [
    "#matriz randomica\n",
    "r = np.random.rand(3,4)\n",
    "print(r, '\\n')"
   ]
  },
  {
   "cell_type": "code",
   "execution_count": 23,
   "id": "2f822b33-36d4-4c67-86ba-baa1fb4a1028",
   "metadata": {},
   "outputs": [
    {
     "name": "stdout",
     "output_type": "stream",
     "text": [
      "[[3.38135711 3.02137258 3.68170404 3.27597177]\n",
      " [2.80830899 3.07451803 3.69993503 3.43825495]\n",
      " [2.66861487 2.92309503 3.72055739 3.32196873]]\n"
     ]
    }
   ],
   "source": [
    "#numero uniformemente distribuidos\n",
    "a = 2.5\n",
    "b = 3.8\n",
    "q = a + (b-a)*r\n",
    "print(q)"
   ]
  },
  {
   "cell_type": "code",
   "execution_count": 26,
   "id": "b464dc06-8926-41cb-b7b7-152496d64d82",
   "metadata": {},
   "outputs": [
    {
     "name": "stdout",
     "output_type": "stream",
     "text": [
      "[[7 6]\n",
      " [6 5]\n",
      " [5 5]\n",
      " [6 6]\n",
      " [6 7]\n",
      " [5 7]] \n",
      "\n"
     ]
    }
   ],
   "source": [
    "#inteiro randomicos\n",
    "ui = np.random.randint(4,8, size=(6,2), dtype=np.int32)\n",
    "print(ui, '\\n')"
   ]
  },
  {
   "cell_type": "code",
   "execution_count": 55,
   "id": "c879b197-19d8-4411-9d15-2fd9591433f2",
   "metadata": {},
   "outputs": [
    {
     "name": "stdout",
     "output_type": "stream",
     "text": [
      "[[1. 1. 1. 1. 1.]\n",
      " [1. 1. 1. 1. 1.]\n",
      " [1. 1. 1. 1. 1.]] \n",
      "\n",
      "[[2.71828183 1.         1.         1.        ]\n",
      " [1.         2.71828183 1.         1.        ]\n",
      " [1.         1.         2.71828183 1.        ]\n",
      " [1.         1.         1.         2.71828183]] \n",
      "\n"
     ]
    }
   ],
   "source": [
    "##Operações com matrizes e vetores\n",
    "##aplic funçao em um array\n",
    "C = np.random.randint(4,8, size=(6,2), dtype=np.int32)\n",
    "Z = np.zeros(shape=(3,5), dtype=np.float64)\n",
    "CZ = np.cos(Z)\n",
    "print(CZ, '\\n')\n",
    "\n",
    "I = np.identity(4, dtype = np.float64)\n",
    "EI = np.exp(I)\n",
    "print(EI, '\\n')"
   ]
  },
  {
   "cell_type": "code",
   "execution_count": 52,
   "id": "1562b000-f980-4cdb-a8ad-073dbb913808",
   "metadata": {},
   "outputs": [
    {
     "name": "stdout",
     "output_type": "stream",
     "text": [
      "[1.6 2.6 3.6] \n",
      "\n",
      "[ 2.  6. 12.] \n",
      "\n",
      "20.0 \n",
      "\n",
      "20.0 \n",
      "\n",
      "[140. 320.] \n",
      "\n"
     ]
    }
   ],
   "source": [
    "v1 = np.array([1.0, 2.0, 3.0], dtype=np.float64)\n",
    "v2 = np.array([2.0, 3.0, 4.0], dtype=np.float64)\n",
    "\n",
    "#combinação linear\n",
    "alpha = 0.4\n",
    "beta = 0.6\n",
    "v3 = alpha*v1 + beta*v2\n",
    "print(v3, '\\n')\n",
    "\n",
    "#produto ponto a ponto\n",
    "v4 = v1 * v2\n",
    "print(v4, '\\n')\n",
    "\n",
    "#produto escalar\n",
    "v4 = v1 @ v2\n",
    "print(v4, '\\n')\n",
    "\n",
    "#seria o mesmo que\n",
    "q = np.sum(v4)\n",
    "print(q, '\\n')\n",
    "\n",
    "#produto metriz vetor\n",
    "A = np.array(([1,2,3],[4,5,6]), dtype=np.float64)\n",
    "x = np.array([10,20,30], dtype=np.float64)\n",
    "y = A @ x\n",
    "print(y, '\\n')"
   ]
  },
  {
   "cell_type": "code",
   "execution_count": 58,
   "id": "e4a0ea9b-f41f-4a02-933c-cddcbd259fe0",
   "metadata": {},
   "outputs": [
    {
     "name": "stdout",
     "output_type": "stream",
     "text": [
      "(6, 2)\n",
      "6\n",
      "2\n"
     ]
    }
   ],
   "source": [
    "#funções\n",
    "#forma de uma matriz\n",
    "print(C.shape)\n",
    "print(C.shape[0]) #num linhas\n",
    "print(C.shape[1]) #num colunas\n",
    "def myFunc( A, B):\n",
    "\n",
    "    ncA = A.shape[1]\n",
    "    ncB = B.shape[0]\n",
    "    if(ncA != ncB):\n",
    "        raise Exception('Produto incompativel')\n",
    "\n",
    "    return C"
   ]
  },
  {
   "cell_type": "code",
   "execution_count": 63,
   "id": "02ce1c7c-1b7c-4795-8a30-b8a6441617a3",
   "metadata": {},
   "outputs": [],
   "source": [
    "m = 100\n",
    "r = 50\n",
    "n = 200\n",
    "A = np.random.rand(m,r)\n",
    "B = np.random.rand(r,n)\n",
    "C = myFunc(A, B)\n",
    "\n",
    "\n"
   ]
  },
  {
   "cell_type": "code",
   "execution_count": null,
   "id": "4c0232a2-71de-4405-ace4-981aa3716c4b",
   "metadata": {},
   "outputs": [],
   "source": []
  }
 ],
 "metadata": {
  "kernelspec": {
   "display_name": "Python 3 (ipykernel)",
   "language": "python",
   "name": "python3"
  },
  "language_info": {
   "codemirror_mode": {
    "name": "ipython",
    "version": 3
   },
   "file_extension": ".py",
   "mimetype": "text/x-python",
   "name": "python",
   "nbconvert_exporter": "python",
   "pygments_lexer": "ipython3",
   "version": "3.10.12"
  }
 },
 "nbformat": 4,
 "nbformat_minor": 5
}
