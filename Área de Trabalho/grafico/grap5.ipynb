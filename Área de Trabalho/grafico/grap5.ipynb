import numpy as np
import matplotlib.pyplot as plt
from sklearn.linear_model import LinearRegression

# Sample data
x = np.array([1, 2, 3, 4, 5]) # <<<< COLOCAR SEUS VALORSE AQUI
y = np.array([2, 3, 5, 7, 11]) # <<<<<<  AQUI T AMBEM

# Reshape x to a 2D array if it's a 1D array
if x.ndim == 1:
    x = x.reshape(-1, 1)

# Create a linear regression model
model = LinearRegression()

# Fit the model to the data
model.fit(x, y)

# Get the coefficients (slope and y-intercept)
slope = model.coef_[0]
intercept = model.intercept_

# Output the linear regression function
print(f"Linear Regression Function: y = {slope:.2f}x + {intercept:.2f}")

# Make predictions
y_pred = model.predict(x)

# Create a scatter plot of the data
plt.scatter(x, y, label='eDITAR AQUI', color='blue', marker='o')

# Plot the regression line
plt.plot(x, y_pred, label='editar AQUi', color='red')

# Add labels and a title
plt.xlabel('X-axis')
plt.ylabel('Y-axis')

if float(intercept) >= 0:
    plt.title(f'SEU TITULO AQUI y = {slope:.2f}x + {intercept:.2f}')
else:
    plt.title(f'SEU TITULO AQUI y = {slope:.2f}x - {abs(intercept):.2f}')

# Add a legend
plt.legend()

# Show the plot
plt.show()

